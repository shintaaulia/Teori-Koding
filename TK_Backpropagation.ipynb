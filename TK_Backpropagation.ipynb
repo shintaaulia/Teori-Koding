{
  "cells": [
    {
      "cell_type": "markdown",
      "metadata": {
        "id": "view-in-github",
        "colab_type": "text"
      },
      "source": [
        "<a href=\"https://colab.research.google.com/github/shintaaulia/TK/blob/main/TK_Backpropagation.ipynb\" target=\"_parent\"><img src=\"https://colab.research.google.com/assets/colab-badge.svg\" alt=\"Open In Colab\"/></a>"
      ]
    },
    {
      "cell_type": "code",
      "execution_count": null,
      "metadata": {
        "colab": {
          "base_uri": "https://localhost:8080/"
        },
        "id": "yq2D38PV1J15",
        "outputId": "041c064f-9e30-4b9c-c4a6-244e0f1110cc"
      },
      "outputs": [
        {
          "name": "stdout",
          "output_type": "stream",
          "text": [
            "Reading package lists... Done\n",
            "Building dependency tree       \n",
            "Reading state information... Done\n",
            "E: Unable to locate package Adam\n"
          ]
        }
      ],
      "source": [
        "!apt install Adam"
      ]
    },
    {
      "cell_type": "code",
      "execution_count": null,
      "metadata": {
        "id": "ffKhbsOPbTC2"
      },
      "outputs": [],
      "source": [
        "from tensorflow.keras.optimizers import Adam, SGD, RMSprop"
      ]
    },
    {
      "cell_type": "code",
      "execution_count": null,
      "metadata": {
        "id": "8pgZtyKkjYgE"
      },
      "outputs": [],
      "source": [
        "import pandas as pd\n",
        "import numpy as np\n",
        "from sklearn import preprocessing\n",
        "from tensorflow.keras.optimizers import Adam"
      ]
    },
    {
      "cell_type": "markdown",
      "metadata": {
        "id": "olH7rLi9xjSv"
      },
      "source": [
        "#KAEF"
      ]
    },
    {
      "cell_type": "code",
      "execution_count": null,
      "metadata": {
        "id": "NkC1PixplB-B"
      },
      "outputs": [],
      "source": [
        "train_df = pd.read_csv('https://raw.githubusercontent.com/shintaaulia/TK/main/KAEF.JK.csv')"
      ]
    },
    {
      "cell_type": "code",
      "execution_count": null,
      "metadata": {
        "id": "Wcnrd1CjlGeP"
      },
      "outputs": [],
      "source": [
        "#menghapus data NAN\n",
        "df = train_df.dropna()"
      ]
    },
    {
      "cell_type": "code",
      "execution_count": null,
      "metadata": {
        "id": "-dQJ_tOylYH3"
      },
      "outputs": [],
      "source": [
        "#menghilangkan data hari(date)\n",
        "data = df.drop(columns=['Date'])\n",
        "data_close = df[['Close']]"
      ]
    },
    {
      "cell_type": "code",
      "execution_count": null,
      "metadata": {
        "colab": {
          "base_uri": "https://localhost:8080/"
        },
        "id": "QNWm5Owtlccz",
        "outputId": "7c9becd8-fbea-4ce0-f99f-1c59f458b3b6"
      },
      "outputs": [
        {
          "name": "stdout",
          "output_type": "stream",
          "text": [
            "         Open      High       Low     Close  Adj Close    Volume\n",
            "0    0.103663  0.096472  0.117450  0.104769   0.104769  0.023512\n",
            "1    0.106002  0.091433  0.113255  0.099296   0.099296  0.015085\n",
            "2    0.098987  0.089273  0.104866  0.092260   0.092260  0.018569\n",
            "3    0.091972  0.084233  0.103188  0.090696   0.090696  0.014582\n",
            "4    0.091972  0.078474  0.096477  0.084441   0.084441  0.011366\n",
            "..        ...       ...       ...       ...        ...       ...\n",
            "440  0.284489  0.269258  0.313758  0.290852   0.291035  0.005322\n",
            "441  0.290725  0.277898  0.320470  0.295543   0.295728  0.028021\n",
            "442  0.295401  0.272138  0.322148  0.293980   0.294163  0.008913\n",
            "443  0.292284  0.266379  0.313758  0.287725   0.287906  0.006832\n",
            "444  0.286048  0.263499  0.313758  0.289289   0.289470  0.003897\n",
            "\n",
            "[445 rows x 6 columns]\n",
            "        Close\n",
            "0    0.104769\n",
            "1    0.099296\n",
            "2    0.092260\n",
            "3    0.090696\n",
            "4    0.084441\n",
            "..        ...\n",
            "440  0.290852\n",
            "441  0.295543\n",
            "442  0.293980\n",
            "443  0.287725\n",
            "444  0.289289\n",
            "\n",
            "[445 rows x 1 columns]\n"
          ]
        }
      ],
      "source": [
        "#normalisasi data\n",
        "df=(data-data.min())/(data.max()-data.min())\n",
        "\n",
        "train_X = df\n",
        "train_y = df [['Close']]\n",
        "print(train_X)\n",
        "print(train_y)"
      ]
    },
    {
      "cell_type": "code",
      "execution_count": null,
      "metadata": {
        "id": "Mt26aTcQliY4"
      },
      "outputs": [],
      "source": [
        "#Perhitungan Backpropagation\n",
        "\n",
        "import tensorflow as tf\n",
        "from tensorflow import keras\n",
        "from tensorflow.keras import Sequential\n",
        "from tensorflow.keras import layers\n",
        "from keras.layers import Activation, Dense\n",
        "from keras.layers import Dropout\n",
        "from keras.models import load_model\n",
        "from tensorflow.keras.optimizers import Adam"
      ]
    },
    {
      "cell_type": "code",
      "execution_count": null,
      "metadata": {
        "id": "xGUEmdROlmCk"
      },
      "outputs": [],
      "source": [
        "#Membuat model\n",
        "regressor = Sequential ()"
      ]
    },
    {
      "cell_type": "code",
      "execution_count": null,
      "metadata": {
        "id": "UVlRop0nlq-T"
      },
      "outputs": [],
      "source": [
        "#Mendapatkan nomor kolom dari data training\n",
        "n_cols = train_X.shape[1]"
      ]
    },
    {
      "cell_type": "code",
      "execution_count": null,
      "metadata": {
        "id": "fA-UI6oyltW6"
      },
      "outputs": [],
      "source": [
        "#Menambahkan input layer dan first hidden layer dan Drop out Regulation\n",
        "regressor.add(Dense(units = 500, kernel_initializer = 'uniform',activation ='relu', input_shape=(n_cols,)))\n",
        "regressor.add(Dropout(.2))\n"
      ]
    },
    {
      "cell_type": "code",
      "execution_count": null,
      "metadata": {
        "id": "qaBbHd5Jl2PL"
      },
      "outputs": [],
      "source": [
        "#Menambahkan output layer\n",
        "regressor.add(Dense(units=1,kernel_initializer='uniform',activation='sigmoid'))"
      ]
    },
    {
      "cell_type": "code",
      "execution_count": null,
      "metadata": {
        "id": "2O5MEeCal4xC"
      },
      "outputs": [],
      "source": [
        "# Compiling the ANN\n",
        "regressor.compile(optimizer='adam', loss='mean_absolute_error')"
      ]
    },
    {
      "cell_type": "code",
      "execution_count": null,
      "metadata": {
        "colab": {
          "base_uri": "https://localhost:8080/"
        },
        "id": "KJzW0uNRl7E7",
        "outputId": "8897ceb3-6314-47ab-efa3-e17110220b0f"
      },
      "outputs": [
        {
          "name": "stdout",
          "output_type": "stream",
          "text": [
            "Epoch 1/200\n",
            "7/7 [==============================] - 0s 27ms/step - loss: 0.2885 - val_loss: 0.1341\n",
            "Epoch 2/200\n",
            "7/7 [==============================] - 0s 6ms/step - loss: 0.2606 - val_loss: 0.1214\n",
            "Epoch 3/200\n",
            "7/7 [==============================] - 0s 8ms/step - loss: 0.2410 - val_loss: 0.1183\n",
            "Epoch 4/200\n",
            "7/7 [==============================] - 0s 7ms/step - loss: 0.2339 - val_loss: 0.1179\n",
            "Epoch 5/200\n",
            "7/7 [==============================] - 0s 6ms/step - loss: 0.2255 - val_loss: 0.1160\n",
            "Epoch 6/200\n",
            "7/7 [==============================] - 0s 6ms/step - loss: 0.2153 - val_loss: 0.1119\n",
            "Epoch 7/200\n",
            "7/7 [==============================] - 0s 8ms/step - loss: 0.2037 - val_loss: 0.1073\n",
            "Epoch 8/200\n",
            "7/7 [==============================] - 0s 6ms/step - loss: 0.1878 - val_loss: 0.1007\n",
            "Epoch 9/200\n",
            "7/7 [==============================] - 0s 11ms/step - loss: 0.1697 - val_loss: 0.0925\n",
            "Epoch 10/200\n",
            "7/7 [==============================] - 0s 8ms/step - loss: 0.1500 - val_loss: 0.0833\n",
            "Epoch 11/200\n",
            "7/7 [==============================] - 0s 6ms/step - loss: 0.1271 - val_loss: 0.0734\n",
            "Epoch 12/200\n",
            "7/7 [==============================] - 0s 8ms/step - loss: 0.1043 - val_loss: 0.0628\n",
            "Epoch 13/200\n",
            "7/7 [==============================] - 0s 8ms/step - loss: 0.0804 - val_loss: 0.0513\n",
            "Epoch 14/200\n",
            "7/7 [==============================] - 0s 8ms/step - loss: 0.0582 - val_loss: 0.0396\n",
            "Epoch 15/200\n",
            "7/7 [==============================] - 0s 8ms/step - loss: 0.0389 - val_loss: 0.0391\n",
            "Epoch 16/200\n",
            "7/7 [==============================] - 0s 6ms/step - loss: 0.0253 - val_loss: 0.0394\n",
            "Epoch 17/200\n",
            "7/7 [==============================] - 0s 8ms/step - loss: 0.0182 - val_loss: 0.0447\n",
            "Epoch 18/200\n",
            "7/7 [==============================] - 0s 5ms/step - loss: 0.0152 - val_loss: 0.0409\n",
            "Epoch 19/200\n",
            "7/7 [==============================] - 0s 10ms/step - loss: 0.0138 - val_loss: 0.0340\n",
            "Epoch 20/200\n",
            "7/7 [==============================] - 0s 8ms/step - loss: 0.0122 - val_loss: 0.0330\n",
            "Epoch 21/200\n",
            "7/7 [==============================] - 0s 8ms/step - loss: 0.0117 - val_loss: 0.0317\n",
            "Epoch 22/200\n",
            "7/7 [==============================] - 0s 8ms/step - loss: 0.0110 - val_loss: 0.0316\n",
            "Epoch 23/200\n",
            "7/7 [==============================] - 0s 6ms/step - loss: 0.0112 - val_loss: 0.0335\n",
            "Epoch 24/200\n",
            "7/7 [==============================] - 0s 8ms/step - loss: 0.0112 - val_loss: 0.0313\n",
            "Epoch 25/200\n",
            "7/7 [==============================] - 0s 6ms/step - loss: 0.0109 - val_loss: 0.0314\n",
            "Epoch 26/200\n",
            "7/7 [==============================] - 0s 8ms/step - loss: 0.0108 - val_loss: 0.0316\n",
            "Epoch 27/200\n",
            "7/7 [==============================] - 0s 6ms/step - loss: 0.0107 - val_loss: 0.0318\n",
            "Epoch 28/200\n",
            "7/7 [==============================] - 0s 8ms/step - loss: 0.0105 - val_loss: 0.0320\n",
            "Epoch 29/200\n",
            "7/7 [==============================] - 0s 5ms/step - loss: 0.0102 - val_loss: 0.0319\n",
            "Epoch 30/200\n",
            "7/7 [==============================] - 0s 6ms/step - loss: 0.0096 - val_loss: 0.0317\n",
            "Epoch 31/200\n",
            "7/7 [==============================] - 0s 6ms/step - loss: 0.0106 - val_loss: 0.0322\n",
            "Epoch 32/200\n",
            "7/7 [==============================] - 0s 8ms/step - loss: 0.0099 - val_loss: 0.0312\n",
            "Epoch 33/200\n",
            "7/7 [==============================] - 0s 5ms/step - loss: 0.0103 - val_loss: 0.0309\n",
            "Epoch 34/200\n",
            "7/7 [==============================] - 0s 6ms/step - loss: 0.0104 - val_loss: 0.0323\n",
            "Epoch 35/200\n",
            "7/7 [==============================] - 0s 8ms/step - loss: 0.0112 - val_loss: 0.0308\n",
            "Epoch 36/200\n",
            "7/7 [==============================] - 0s 6ms/step - loss: 0.0102 - val_loss: 0.0306\n",
            "Epoch 37/200\n",
            "7/7 [==============================] - 0s 8ms/step - loss: 0.0100 - val_loss: 0.0350\n",
            "Epoch 38/200\n",
            "7/7 [==============================] - 0s 6ms/step - loss: 0.0116 - val_loss: 0.0309\n",
            "Epoch 39/200\n",
            "7/7 [==============================] - 0s 5ms/step - loss: 0.0105 - val_loss: 0.0309\n",
            "Epoch 40/200\n",
            "7/7 [==============================] - 0s 6ms/step - loss: 0.0097 - val_loss: 0.0336\n",
            "Epoch 41/200\n",
            "7/7 [==============================] - 0s 8ms/step - loss: 0.0101 - val_loss: 0.0308\n",
            "Epoch 42/200\n",
            "7/7 [==============================] - 0s 6ms/step - loss: 0.0099 - val_loss: 0.0317\n",
            "Epoch 43/200\n",
            "7/7 [==============================] - 0s 6ms/step - loss: 0.0098 - val_loss: 0.0321\n",
            "Epoch 44/200\n",
            "7/7 [==============================] - 0s 6ms/step - loss: 0.0097 - val_loss: 0.0308\n",
            "Epoch 45/200\n",
            "7/7 [==============================] - 0s 6ms/step - loss: 0.0096 - val_loss: 0.0313\n",
            "Epoch 46/200\n",
            "7/7 [==============================] - 0s 6ms/step - loss: 0.0098 - val_loss: 0.0310\n",
            "Epoch 47/200\n",
            "7/7 [==============================] - 0s 9ms/step - loss: 0.0096 - val_loss: 0.0308\n",
            "Epoch 48/200\n",
            "7/7 [==============================] - 0s 9ms/step - loss: 0.0097 - val_loss: 0.0314\n",
            "Epoch 49/200\n",
            "7/7 [==============================] - 0s 8ms/step - loss: 0.0096 - val_loss: 0.0308\n",
            "Epoch 50/200\n",
            "7/7 [==============================] - 0s 6ms/step - loss: 0.0093 - val_loss: 0.0314\n",
            "Epoch 51/200\n",
            "7/7 [==============================] - 0s 6ms/step - loss: 0.0095 - val_loss: 0.0313\n",
            "Epoch 52/200\n",
            "7/7 [==============================] - 0s 8ms/step - loss: 0.0091 - val_loss: 0.0322\n",
            "Epoch 53/200\n",
            "7/7 [==============================] - 0s 6ms/step - loss: 0.0095 - val_loss: 0.0309\n",
            "Epoch 54/200\n",
            "7/7 [==============================] - 0s 10ms/step - loss: 0.0088 - val_loss: 0.0304\n",
            "Epoch 55/200\n",
            "7/7 [==============================] - 0s 6ms/step - loss: 0.0086 - val_loss: 0.0313\n",
            "Epoch 56/200\n",
            "7/7 [==============================] - 0s 6ms/step - loss: 0.0084 - val_loss: 0.0329\n",
            "Epoch 57/200\n",
            "7/7 [==============================] - 0s 9ms/step - loss: 0.0087 - val_loss: 0.0308\n",
            "Epoch 58/200\n",
            "7/7 [==============================] - 0s 6ms/step - loss: 0.0087 - val_loss: 0.0310\n",
            "Epoch 59/200\n",
            "7/7 [==============================] - 0s 9ms/step - loss: 0.0090 - val_loss: 0.0316\n",
            "Epoch 60/200\n",
            "7/7 [==============================] - 0s 6ms/step - loss: 0.0090 - val_loss: 0.0324\n",
            "Epoch 61/200\n",
            "7/7 [==============================] - 0s 6ms/step - loss: 0.0087 - val_loss: 0.0309\n",
            "Epoch 62/200\n",
            "7/7 [==============================] - 0s 6ms/step - loss: 0.0088 - val_loss: 0.0322\n",
            "Epoch 63/200\n",
            "7/7 [==============================] - 0s 7ms/step - loss: 0.0085 - val_loss: 0.0314\n",
            "Epoch 64/200\n",
            "7/7 [==============================] - 0s 6ms/step - loss: 0.0085 - val_loss: 0.0320\n",
            "Epoch 65/200\n",
            "7/7 [==============================] - 0s 8ms/step - loss: 0.0084 - val_loss: 0.0308\n",
            "Epoch 66/200\n",
            "7/7 [==============================] - 0s 8ms/step - loss: 0.0081 - val_loss: 0.0320\n",
            "Epoch 67/200\n",
            "7/7 [==============================] - 0s 8ms/step - loss: 0.0083 - val_loss: 0.0308\n",
            "Epoch 68/200\n",
            "7/7 [==============================] - 0s 8ms/step - loss: 0.0080 - val_loss: 0.0312\n",
            "Epoch 69/200\n",
            "7/7 [==============================] - 0s 8ms/step - loss: 0.0079 - val_loss: 0.0319\n",
            "Epoch 70/200\n",
            "7/7 [==============================] - 0s 8ms/step - loss: 0.0078 - val_loss: 0.0305\n",
            "Epoch 71/200\n",
            "7/7 [==============================] - 0s 6ms/step - loss: 0.0082 - val_loss: 0.0327\n",
            "Epoch 72/200\n",
            "7/7 [==============================] - 0s 8ms/step - loss: 0.0084 - val_loss: 0.0309\n",
            "Epoch 73/200\n",
            "7/7 [==============================] - 0s 8ms/step - loss: 0.0075 - val_loss: 0.0309\n",
            "Epoch 74/200\n",
            "7/7 [==============================] - 0s 8ms/step - loss: 0.0076 - val_loss: 0.0307\n",
            "Epoch 75/200\n",
            "7/7 [==============================] - 0s 8ms/step - loss: 0.0083 - val_loss: 0.0310\n",
            "Epoch 76/200\n",
            "7/7 [==============================] - 0s 9ms/step - loss: 0.0083 - val_loss: 0.0325\n",
            "Epoch 77/200\n",
            "7/7 [==============================] - 0s 6ms/step - loss: 0.0079 - val_loss: 0.0309\n",
            "Epoch 78/200\n",
            "7/7 [==============================] - 0s 8ms/step - loss: 0.0076 - val_loss: 0.0318\n",
            "Epoch 79/200\n",
            "7/7 [==============================] - 0s 6ms/step - loss: 0.0080 - val_loss: 0.0310\n",
            "Epoch 80/200\n",
            "7/7 [==============================] - 0s 9ms/step - loss: 0.0079 - val_loss: 0.0313\n",
            "Epoch 81/200\n",
            "7/7 [==============================] - 0s 9ms/step - loss: 0.0077 - val_loss: 0.0308\n",
            "Epoch 82/200\n",
            "7/7 [==============================] - 0s 7ms/step - loss: 0.0078 - val_loss: 0.0342\n",
            "Epoch 83/200\n",
            "7/7 [==============================] - 0s 6ms/step - loss: 0.0078 - val_loss: 0.0312\n",
            "Epoch 84/200\n",
            "7/7 [==============================] - 0s 6ms/step - loss: 0.0072 - val_loss: 0.0310\n",
            "Epoch 85/200\n",
            "7/7 [==============================] - 0s 5ms/step - loss: 0.0081 - val_loss: 0.0362\n",
            "Epoch 86/200\n",
            "7/7 [==============================] - 0s 8ms/step - loss: 0.0078 - val_loss: 0.0329\n",
            "Epoch 87/200\n",
            "7/7 [==============================] - 0s 7ms/step - loss: 0.0084 - val_loss: 0.0331\n",
            "Epoch 88/200\n",
            "7/7 [==============================] - 0s 6ms/step - loss: 0.0077 - val_loss: 0.0330\n",
            "Epoch 89/200\n",
            "7/7 [==============================] - 0s 6ms/step - loss: 0.0076 - val_loss: 0.0320\n",
            "Epoch 90/200\n",
            "7/7 [==============================] - 0s 6ms/step - loss: 0.0080 - val_loss: 0.0337\n",
            "Epoch 91/200\n",
            "7/7 [==============================] - 0s 9ms/step - loss: 0.0075 - val_loss: 0.0338\n",
            "Epoch 92/200\n",
            "7/7 [==============================] - 0s 7ms/step - loss: 0.0076 - val_loss: 0.0316\n",
            "Epoch 93/200\n",
            "7/7 [==============================] - 0s 8ms/step - loss: 0.0071 - val_loss: 0.0338\n",
            "Epoch 94/200\n",
            "7/7 [==============================] - 0s 6ms/step - loss: 0.0070 - val_loss: 0.0329\n",
            "Epoch 95/200\n",
            "7/7 [==============================] - 0s 8ms/step - loss: 0.0071 - val_loss: 0.0311\n",
            "Epoch 96/200\n",
            "7/7 [==============================] - 0s 6ms/step - loss: 0.0077 - val_loss: 0.0321\n",
            "Epoch 97/200\n",
            "7/7 [==============================] - 0s 7ms/step - loss: 0.0079 - val_loss: 0.0325\n",
            "Epoch 98/200\n",
            "7/7 [==============================] - 0s 8ms/step - loss: 0.0073 - val_loss: 0.0316\n",
            "Epoch 99/200\n",
            "7/7 [==============================] - 0s 8ms/step - loss: 0.0078 - val_loss: 0.0312\n",
            "Epoch 100/200\n",
            "7/7 [==============================] - 0s 6ms/step - loss: 0.0070 - val_loss: 0.0313\n",
            "Epoch 101/200\n",
            "7/7 [==============================] - 0s 9ms/step - loss: 0.0067 - val_loss: 0.0312\n",
            "Epoch 102/200\n",
            "7/7 [==============================] - 0s 6ms/step - loss: 0.0069 - val_loss: 0.0315\n",
            "Epoch 103/200\n",
            "7/7 [==============================] - 0s 8ms/step - loss: 0.0073 - val_loss: 0.0311\n",
            "Epoch 104/200\n",
            "7/7 [==============================] - 0s 6ms/step - loss: 0.0066 - val_loss: 0.0310\n",
            "Epoch 105/200\n",
            "7/7 [==============================] - 0s 6ms/step - loss: 0.0071 - val_loss: 0.0312\n",
            "Epoch 106/200\n",
            "7/7 [==============================] - 0s 7ms/step - loss: 0.0069 - val_loss: 0.0313\n",
            "Epoch 107/200\n",
            "7/7 [==============================] - 0s 6ms/step - loss: 0.0068 - val_loss: 0.0311\n",
            "Epoch 108/200\n",
            "7/7 [==============================] - 0s 8ms/step - loss: 0.0069 - val_loss: 0.0338\n",
            "Epoch 109/200\n",
            "7/7 [==============================] - 0s 9ms/step - loss: 0.0075 - val_loss: 0.0312\n",
            "Epoch 110/200\n",
            "7/7 [==============================] - 0s 8ms/step - loss: 0.0076 - val_loss: 0.0319\n",
            "Epoch 111/200\n",
            "7/7 [==============================] - 0s 8ms/step - loss: 0.0078 - val_loss: 0.0361\n",
            "Epoch 112/200\n",
            "7/7 [==============================] - 0s 6ms/step - loss: 0.0070 - val_loss: 0.0317\n",
            "Epoch 113/200\n",
            "7/7 [==============================] - 0s 8ms/step - loss: 0.0065 - val_loss: 0.0316\n",
            "Epoch 114/200\n",
            "7/7 [==============================] - 0s 6ms/step - loss: 0.0075 - val_loss: 0.0341\n",
            "Epoch 115/200\n",
            "7/7 [==============================] - 0s 8ms/step - loss: 0.0071 - val_loss: 0.0331\n",
            "Epoch 116/200\n",
            "7/7 [==============================] - 0s 6ms/step - loss: 0.0062 - val_loss: 0.0315\n",
            "Epoch 117/200\n",
            "7/7 [==============================] - 0s 5ms/step - loss: 0.0071 - val_loss: 0.0319\n",
            "Epoch 118/200\n",
            "7/7 [==============================] - 0s 8ms/step - loss: 0.0062 - val_loss: 0.0338\n",
            "Epoch 119/200\n",
            "7/7 [==============================] - 0s 8ms/step - loss: 0.0069 - val_loss: 0.0313\n",
            "Epoch 120/200\n",
            "7/7 [==============================] - 0s 9ms/step - loss: 0.0067 - val_loss: 0.0311\n",
            "Epoch 121/200\n",
            "7/7 [==============================] - 0s 6ms/step - loss: 0.0070 - val_loss: 0.0315\n",
            "Epoch 122/200\n",
            "7/7 [==============================] - 0s 8ms/step - loss: 0.0067 - val_loss: 0.0314\n",
            "Epoch 123/200\n",
            "7/7 [==============================] - 0s 8ms/step - loss: 0.0066 - val_loss: 0.0311\n",
            "Epoch 124/200\n",
            "7/7 [==============================] - 0s 8ms/step - loss: 0.0059 - val_loss: 0.0309\n",
            "Epoch 125/200\n",
            "7/7 [==============================] - 0s 9ms/step - loss: 0.0062 - val_loss: 0.0320\n",
            "Epoch 126/200\n",
            "7/7 [==============================] - 0s 9ms/step - loss: 0.0064 - val_loss: 0.0310\n",
            "Epoch 127/200\n",
            "7/7 [==============================] - 0s 6ms/step - loss: 0.0062 - val_loss: 0.0307\n",
            "Epoch 128/200\n",
            "7/7 [==============================] - 0s 8ms/step - loss: 0.0063 - val_loss: 0.0307\n",
            "Epoch 129/200\n",
            "7/7 [==============================] - 0s 6ms/step - loss: 0.0066 - val_loss: 0.0309\n",
            "Epoch 130/200\n",
            "7/7 [==============================] - 0s 7ms/step - loss: 0.0060 - val_loss: 0.0308\n",
            "Epoch 131/200\n",
            "7/7 [==============================] - 0s 6ms/step - loss: 0.0065 - val_loss: 0.0318\n",
            "Epoch 132/200\n",
            "7/7 [==============================] - 0s 8ms/step - loss: 0.0071 - val_loss: 0.0324\n",
            "Epoch 133/200\n",
            "7/7 [==============================] - 0s 6ms/step - loss: 0.0070 - val_loss: 0.0318\n",
            "Epoch 134/200\n",
            "7/7 [==============================] - 0s 8ms/step - loss: 0.0066 - val_loss: 0.0314\n",
            "Epoch 135/200\n",
            "7/7 [==============================] - 0s 6ms/step - loss: 0.0068 - val_loss: 0.0314\n",
            "Epoch 136/200\n",
            "7/7 [==============================] - 0s 6ms/step - loss: 0.0071 - val_loss: 0.0353\n",
            "Epoch 137/200\n",
            "7/7 [==============================] - 0s 7ms/step - loss: 0.0063 - val_loss: 0.0322\n",
            "Epoch 138/200\n",
            "7/7 [==============================] - 0s 8ms/step - loss: 0.0063 - val_loss: 0.0313\n",
            "Epoch 139/200\n",
            "7/7 [==============================] - 0s 6ms/step - loss: 0.0062 - val_loss: 0.0318\n",
            "Epoch 140/200\n",
            "7/7 [==============================] - 0s 8ms/step - loss: 0.0063 - val_loss: 0.0320\n",
            "Epoch 141/200\n",
            "7/7 [==============================] - 0s 6ms/step - loss: 0.0065 - val_loss: 0.0323\n",
            "Epoch 142/200\n",
            "7/7 [==============================] - 0s 6ms/step - loss: 0.0058 - val_loss: 0.0310\n",
            "Epoch 143/200\n",
            "7/7 [==============================] - 0s 6ms/step - loss: 0.0062 - val_loss: 0.0317\n",
            "Epoch 144/200\n",
            "7/7 [==============================] - 0s 6ms/step - loss: 0.0069 - val_loss: 0.0312\n",
            "Epoch 145/200\n",
            "7/7 [==============================] - 0s 9ms/step - loss: 0.0068 - val_loss: 0.0311\n",
            "Epoch 146/200\n",
            "7/7 [==============================] - 0s 9ms/step - loss: 0.0055 - val_loss: 0.0323\n",
            "Epoch 147/200\n",
            "7/7 [==============================] - 0s 8ms/step - loss: 0.0063 - val_loss: 0.0312\n",
            "Epoch 148/200\n",
            "7/7 [==============================] - 0s 8ms/step - loss: 0.0062 - val_loss: 0.0311\n",
            "Epoch 149/200\n",
            "7/7 [==============================] - 0s 9ms/step - loss: 0.0052 - val_loss: 0.0314\n",
            "Epoch 150/200\n",
            "7/7 [==============================] - 0s 9ms/step - loss: 0.0060 - val_loss: 0.0314\n",
            "Epoch 151/200\n",
            "7/7 [==============================] - 0s 6ms/step - loss: 0.0058 - val_loss: 0.0313\n",
            "Epoch 152/200\n",
            "7/7 [==============================] - 0s 7ms/step - loss: 0.0064 - val_loss: 0.0334\n",
            "Epoch 153/200\n",
            "7/7 [==============================] - 0s 9ms/step - loss: 0.0058 - val_loss: 0.0312\n",
            "Epoch 154/200\n",
            "7/7 [==============================] - 0s 6ms/step - loss: 0.0061 - val_loss: 0.0311\n",
            "Epoch 155/200\n",
            "7/7 [==============================] - 0s 8ms/step - loss: 0.0063 - val_loss: 0.0314\n",
            "Epoch 156/200\n",
            "7/7 [==============================] - 0s 8ms/step - loss: 0.0062 - val_loss: 0.0315\n",
            "Epoch 157/200\n",
            "7/7 [==============================] - 0s 8ms/step - loss: 0.0062 - val_loss: 0.0318\n",
            "Epoch 158/200\n",
            "7/7 [==============================] - 0s 8ms/step - loss: 0.0056 - val_loss: 0.0321\n",
            "Epoch 159/200\n",
            "7/7 [==============================] - 0s 5ms/step - loss: 0.0063 - val_loss: 0.0312\n",
            "Epoch 160/200\n",
            "7/7 [==============================] - 0s 6ms/step - loss: 0.0061 - val_loss: 0.0313\n",
            "Epoch 161/200\n",
            "7/7 [==============================] - 0s 8ms/step - loss: 0.0057 - val_loss: 0.0312\n",
            "Epoch 162/200\n",
            "7/7 [==============================] - 0s 8ms/step - loss: 0.0056 - val_loss: 0.0312\n",
            "Epoch 163/200\n",
            "7/7 [==============================] - 0s 9ms/step - loss: 0.0053 - val_loss: 0.0312\n",
            "Epoch 164/200\n",
            "7/7 [==============================] - 0s 8ms/step - loss: 0.0063 - val_loss: 0.0310\n",
            "Epoch 165/200\n",
            "7/7 [==============================] - 0s 8ms/step - loss: 0.0065 - val_loss: 0.0330\n",
            "Epoch 166/200\n",
            "7/7 [==============================] - 0s 9ms/step - loss: 0.0059 - val_loss: 0.0316\n",
            "Epoch 167/200\n",
            "7/7 [==============================] - 0s 9ms/step - loss: 0.0060 - val_loss: 0.0312\n",
            "Epoch 168/200\n",
            "7/7 [==============================] - 0s 8ms/step - loss: 0.0060 - val_loss: 0.0312\n",
            "Epoch 169/200\n",
            "7/7 [==============================] - 0s 8ms/step - loss: 0.0059 - val_loss: 0.0317\n",
            "Epoch 170/200\n",
            "7/7 [==============================] - 0s 7ms/step - loss: 0.0058 - val_loss: 0.0312\n",
            "Epoch 171/200\n",
            "7/7 [==============================] - 0s 8ms/step - loss: 0.0058 - val_loss: 0.0314\n",
            "Epoch 172/200\n",
            "7/7 [==============================] - 0s 7ms/step - loss: 0.0057 - val_loss: 0.0315\n",
            "Epoch 173/200\n",
            "7/7 [==============================] - 0s 6ms/step - loss: 0.0057 - val_loss: 0.0328\n",
            "Epoch 174/200\n",
            "7/7 [==============================] - 0s 8ms/step - loss: 0.0053 - val_loss: 0.0314\n",
            "Epoch 175/200\n",
            "7/7 [==============================] - 0s 8ms/step - loss: 0.0056 - val_loss: 0.0316\n",
            "Epoch 176/200\n",
            "7/7 [==============================] - 0s 6ms/step - loss: 0.0056 - val_loss: 0.0333\n",
            "Epoch 177/200\n",
            "7/7 [==============================] - 0s 7ms/step - loss: 0.0061 - val_loss: 0.0318\n",
            "Epoch 178/200\n",
            "7/7 [==============================] - 0s 8ms/step - loss: 0.0054 - val_loss: 0.0314\n",
            "Epoch 179/200\n",
            "7/7 [==============================] - 0s 6ms/step - loss: 0.0053 - val_loss: 0.0314\n",
            "Epoch 180/200\n",
            "7/7 [==============================] - 0s 8ms/step - loss: 0.0057 - val_loss: 0.0317\n",
            "Epoch 181/200\n",
            "7/7 [==============================] - 0s 6ms/step - loss: 0.0057 - val_loss: 0.0315\n",
            "Epoch 182/200\n",
            "7/7 [==============================] - 0s 7ms/step - loss: 0.0059 - val_loss: 0.0319\n",
            "Epoch 183/200\n",
            "7/7 [==============================] - 0s 9ms/step - loss: 0.0060 - val_loss: 0.0318\n",
            "Epoch 184/200\n",
            "7/7 [==============================] - 0s 6ms/step - loss: 0.0060 - val_loss: 0.0337\n",
            "Epoch 185/200\n",
            "7/7 [==============================] - 0s 7ms/step - loss: 0.0055 - val_loss: 0.0315\n",
            "Epoch 186/200\n",
            "7/7 [==============================] - 0s 6ms/step - loss: 0.0055 - val_loss: 0.0318\n",
            "Epoch 187/200\n",
            "7/7 [==============================] - 0s 6ms/step - loss: 0.0061 - val_loss: 0.0315\n",
            "Epoch 188/200\n",
            "7/7 [==============================] - 0s 6ms/step - loss: 0.0056 - val_loss: 0.0314\n",
            "Epoch 189/200\n",
            "7/7 [==============================] - 0s 10ms/step - loss: 0.0053 - val_loss: 0.0313\n",
            "Epoch 190/200\n",
            "7/7 [==============================] - 0s 7ms/step - loss: 0.0058 - val_loss: 0.0358\n",
            "Epoch 191/200\n",
            "7/7 [==============================] - 0s 6ms/step - loss: 0.0061 - val_loss: 0.0313\n",
            "Epoch 192/200\n",
            "7/7 [==============================] - 0s 7ms/step - loss: 0.0060 - val_loss: 0.0320\n",
            "Epoch 193/200\n",
            "7/7 [==============================] - 0s 7ms/step - loss: 0.0057 - val_loss: 0.0323\n",
            "Epoch 194/200\n",
            "7/7 [==============================] - 0s 8ms/step - loss: 0.0057 - val_loss: 0.0331\n",
            "Epoch 195/200\n",
            "7/7 [==============================] - 0s 9ms/step - loss: 0.0052 - val_loss: 0.0317\n",
            "Epoch 196/200\n",
            "7/7 [==============================] - 0s 8ms/step - loss: 0.0050 - val_loss: 0.0319\n",
            "Epoch 197/200\n",
            "7/7 [==============================] - 0s 6ms/step - loss: 0.0056 - val_loss: 0.0314\n",
            "Epoch 198/200\n",
            "7/7 [==============================] - 0s 9ms/step - loss: 0.0050 - val_loss: 0.0314\n",
            "Epoch 199/200\n",
            "7/7 [==============================] - 0s 6ms/step - loss: 0.0056 - val_loss: 0.0315\n",
            "Epoch 200/200\n",
            "7/7 [==============================] - 0s 6ms/step - loss: 0.0054 - val_loss: 0.0318\n"
          ]
        },
        {
          "data": {
            "text/plain": [
              "<keras.callbacks.History at 0x7f39a9e0bd10>"
            ]
          },
          "execution_count": 106,
          "metadata": {},
          "output_type": "execute_result"
        }
      ],
      "source": [
        "#Fitting untuk ANN dari Data Training\n",
        "regressor.fit(train_X,train_y,validation_split=0.5,epochs=200)"
      ]
    },
    {
      "cell_type": "code",
      "execution_count": null,
      "metadata": {
        "id": "aIxxbos4mAeF"
      },
      "outputs": [],
      "source": [
        "#Menyimpan Model Training\n",
        "regressor.save('model.h5')"
      ]
    },
    {
      "cell_type": "code",
      "execution_count": null,
      "metadata": {
        "id": "jSzaS2PDlSpG"
      },
      "outputs": [],
      "source": [
        "# Memprediksi Harga Saham pada masa yang akan datang\n",
        "\n",
        "#Membaca data menggunakan pandas\n",
        "test_df = pd.read_csv('https://raw.githubusercontent.com/shintaaulia/TK/main/KAEF.JK%20(2).csv')\n",
        "\n",
        "#menghapus data NAN\n",
        "df = train_df.dropna()\n",
        "\n",
        "#Menghapus data kosong\n",
        "test_data = test_df.drop(columns=['Date'])\n",
        "data_test_close=test_df[['Close']]\n",
        "\n",
        "#Normalisasi Data\n",
        "nor=(test_data-test_data.min())/(test_data.max()-test_data.min())\n",
        "\n",
        "#Membuat dataframe dengan semua data training except the target column\n",
        "test_X=nor\n",
        "\n",
        "#Membuat dataframe dengan hanya target column\n",
        "test_y=nor[['Close']]"
      ]
    },
    {
      "cell_type": "code",
      "execution_count": null,
      "metadata": {
        "id": "oZrGvsyomNiz"
      },
      "outputs": [],
      "source": [
        "import matplotlib.pyplot as plt\n",
        "#delete the exiting model\n",
        "del regressor\n",
        "\n",
        "#load traning model\n",
        "regressor = load_model('model.h5')"
      ]
    },
    {
      "cell_type": "code",
      "execution_count": null,
      "metadata": {
        "colab": {
          "base_uri": "https://localhost:8080/",
          "height": 298
        },
        "id": "y7xYcqrimSbq",
        "outputId": "b7e403d5-bfa6-453b-91cf-35a8ac87eb6e"
      },
      "outputs": [
        {
          "data": {
            "image/png": "[encoded data removed]",
            "text/plain": [
              "<Figure size 432x288 with 1 Axes>"
            ]
          },
          "metadata": {},
          "output_type": "display_data"
        },
        {
          "name": "stdout",
          "output_type": "stream",
          "text": [
            "mse 0.008045190314034186\n"
          ]
        }
      ],
      "source": [
        "####Prediksi dan Test Model####\n",
        "input_data=test_X.values\n",
        "real_close_price=test_y.values\n",
        "\n",
        "predicted_close_price = regressor.predict(input_data)\n",
        "target = real_close_price[~np.isnan(real_close_price)]\n",
        "predict = predicted_close_price[~np.isnan(predicted_close_price)]\n",
        "plt.plot(target)\n",
        "plt.plot(predict,'--')\n",
        "plt.title('Stock Price Prediction')\n",
        "plt.ylabel('Stock Price')\n",
        "plt.show()\n",
        " \n",
        "def mse(predictions,target):\n",
        "  return 0.5 * (((predictions-target)**2).mean())\n",
        " \n",
        "#mse =((real_close_price-predicted_close_price)**2).mean(axis=1)\n",
        "a = mse(predict.flatten(),target.flatten())\n",
        "print('mse', a)\n"
      ]
    },
    {
      "cell_type": "code",
      "execution_count": null,
      "metadata": {
        "colab": {
          "base_uri": "https://localhost:8080/",
          "height": 708
        },
        "id": "Pj_D3cmWgB9a",
        "outputId": "4844a537-1d82-4418-e022-34dc821aba90"
      },
      "outputs": [
        {
          "data": {
            "text/html": [
              "\n",
              "  <div id=\"df-e3640c7e-0e6b-4e7f-b725-44d235ac4fb1\">\n",
              "    <div class=\"colab-df-container\">\n",
              "      <div>\n",
              "<style scoped>\n",
              "    .dataframe tbody tr th:only-of-type {\n",
              "        vertical-align: middle;\n",
              "    }\n",
              "\n",
              "    .dataframe tbody tr th {\n",
              "        vertical-align: top;\n",
              "    }\n",
              "\n",
              "    .dataframe thead th {\n",
              "        text-align: right;\n",
              "    }\n",
              "</style>\n",
              "<table border=\"1\" class=\"dataframe\">\n",
              "  <thead>\n",
              "    <tr style=\"text-align: right;\">\n",
              "      <th></th>\n",
              "      <th>real</th>\n",
              "      <th>predicted</th>\n",
              "    </tr>\n",
              "  </thead>\n",
              "  <tbody>\n",
              "    <tr>\n",
              "      <th>0</th>\n",
              "      <td>0.176471</td>\n",
              "      <td>0.189988</td>\n",
              "    </tr>\n",
              "    <tr>\n",
              "      <th>1</th>\n",
              "      <td>0.176471</td>\n",
              "      <td>0.207063</td>\n",
              "    </tr>\n",
              "    <tr>\n",
              "      <th>2</th>\n",
              "      <td>0.235294</td>\n",
              "      <td>0.271249</td>\n",
              "    </tr>\n",
              "    <tr>\n",
              "      <th>3</th>\n",
              "      <td>0.647059</td>\n",
              "      <td>0.467973</td>\n",
              "    </tr>\n",
              "    <tr>\n",
              "      <th>4</th>\n",
              "      <td>0.411765</td>\n",
              "      <td>0.427320</td>\n",
              "    </tr>\n",
              "    <tr>\n",
              "      <th>5</th>\n",
              "      <td>0.294118</td>\n",
              "      <td>0.327135</td>\n",
              "    </tr>\n",
              "    <tr>\n",
              "      <th>6</th>\n",
              "      <td>0.352941</td>\n",
              "      <td>0.405373</td>\n",
              "    </tr>\n",
              "    <tr>\n",
              "      <th>7</th>\n",
              "      <td>0.352941</td>\n",
              "      <td>0.368654</td>\n",
              "    </tr>\n",
              "    <tr>\n",
              "      <th>8</th>\n",
              "      <td>0.411765</td>\n",
              "      <td>0.401680</td>\n",
              "    </tr>\n",
              "    <tr>\n",
              "      <th>9</th>\n",
              "      <td>0.294118</td>\n",
              "      <td>0.346323</td>\n",
              "    </tr>\n",
              "    <tr>\n",
              "      <th>10</th>\n",
              "      <td>0.176471</td>\n",
              "      <td>0.203921</td>\n",
              "    </tr>\n",
              "    <tr>\n",
              "      <th>11</th>\n",
              "      <td>0.117647</td>\n",
              "      <td>0.151677</td>\n",
              "    </tr>\n",
              "    <tr>\n",
              "      <th>12</th>\n",
              "      <td>0.058824</td>\n",
              "      <td>0.085576</td>\n",
              "    </tr>\n",
              "    <tr>\n",
              "      <th>13</th>\n",
              "      <td>0.000000</td>\n",
              "      <td>0.040569</td>\n",
              "    </tr>\n",
              "    <tr>\n",
              "      <th>14</th>\n",
              "      <td>0.058824</td>\n",
              "      <td>0.064311</td>\n",
              "    </tr>\n",
              "    <tr>\n",
              "      <th>15</th>\n",
              "      <td>0.235294</td>\n",
              "      <td>0.212771</td>\n",
              "    </tr>\n",
              "    <tr>\n",
              "      <th>16</th>\n",
              "      <td>0.117647</td>\n",
              "      <td>0.163373</td>\n",
              "    </tr>\n",
              "    <tr>\n",
              "      <th>17</th>\n",
              "      <td>0.058824</td>\n",
              "      <td>0.071344</td>\n",
              "    </tr>\n",
              "    <tr>\n",
              "      <th>18</th>\n",
              "      <td>0.352941</td>\n",
              "      <td>0.312981</td>\n",
              "    </tr>\n",
              "    <tr>\n",
              "      <th>19</th>\n",
              "      <td>0.058824</td>\n",
              "      <td>0.130817</td>\n",
              "    </tr>\n",
              "    <tr>\n",
              "      <th>20</th>\n",
              "      <td>1.000000</td>\n",
              "      <td>0.468567</td>\n",
              "    </tr>\n",
              "  </tbody>\n",
              "</table>\n",
              "</div>\n",
              "      <button class=\"colab-df-convert\" onclick=\"convertToInteractive('df-e3640c7e-0e6b-4e7f-b725-44d235ac4fb1')\"\n",
              "              title=\"Convert this dataframe to an interactive table.\"\n",
              "              style=\"display:none;\">\n",
              "        \n",
              "  <svg xmlns=\"http://www.w3.org/2000/svg\" height=\"24px\"viewBox=\"0 0 24 24\"\n",
              "       width=\"24px\">\n",
              "    <path d=\"M0 0h24v24H0V0z\" fill=\"none\"/>\n",
              "    <path d=\"M18.56 5.44l.94 2.06.94-2.06 2.06-.94-2.06-.94-.94-2.06-.94 2.06-2.06.94zm-11 1L8.5 8.5l.94-2.06 2.06-.94-2.06-.94L8.5 2.5l-.94 2.06-2.06.94zm10 10l.94 2.06.94-2.06 2.06-.94-2.06-.94-.94-2.06-.94 2.06-2.06.94z\"/><path d=\"M17.41 7.96l-1.37-1.37c-.4-.4-.92-.59-1.43-.59-.52 0-1.04.2-1.43.59L10.3 9.45l-7.72 7.72c-.78.78-.78 2.05 0 2.83L4 21.41c.39.39.9.59 1.41.59.51 0 1.02-.2 1.41-.59l7.78-7.78 2.81-2.81c.8-.78.8-2.07 0-2.86zM5.41 20L4 18.59l7.72-7.72 1.47 1.35L5.41 20z\"/>\n",
              "  </svg>\n",
              "      </button>\n",
              "      \n",
              "  <style>\n",
              "    .colab-df-container {\n",
              "      display:flex;\n",
              "      flex-wrap:wrap;\n",
              "      gap: 12px;\n",
              "    }\n",
              "\n",
              "    .colab-df-convert {\n",
              "      background-color: #E8F0FE;\n",
              "      border: none;\n",
              "      border-radius: 50%;\n",
              "      cursor: pointer;\n",
              "      display: none;\n",
              "      fill: #1967D2;\n",
              "      height: 32px;\n",
              "      padding: 0 0 0 0;\n",
              "      width: 32px;\n",
              "    }\n",
              "\n",
              "    .colab-df-convert:hover {\n",
              "      background-color: #E2EBFA;\n",
              "      box-shadow: 0px 1px 2px rgba(60, 64, 67, 0.3), 0px 1px 3px 1px rgba(60, 64, 67, 0.15);\n",
              "      fill: #174EA6;\n",
              "    }\n",
              "\n",
              "    [theme=dark] .colab-df-convert {\n",
              "      background-color: #3B4455;\n",
              "      fill: #D2E3FC;\n",
              "    }\n",
              "\n",
              "    [theme=dark] .colab-df-convert:hover {\n",
              "      background-color: #434B5C;\n",
              "      box-shadow: 0px 1px 3px 1px rgba(0, 0, 0, 0.15);\n",
              "      filter: drop-shadow(0px 1px 2px rgba(0, 0, 0, 0.3));\n",
              "      fill: #FFFFFF;\n",
              "    }\n",
              "  </style>\n",
              "\n",
              "      <script>\n",
              "        const buttonEl =\n",
              "          document.querySelector('#df-e3640c7e-0e6b-4e7f-b725-44d235ac4fb1 button.colab-df-convert');\n",
              "        buttonEl.style.display =\n",
              "          google.colab.kernel.accessAllowed ? 'block' : 'none';\n",
              "\n",
              "        async function convertToInteractive(key) {\n",
              "          const element = document.querySelector('#df-e3640c7e-0e6b-4e7f-b725-44d235ac4fb1');\n",
              "          const dataTable =\n",
              "            await google.colab.kernel.invokeFunction('convertToInteractive',\n",
              "                                                     [key], {});\n",
              "          if (!dataTable) return;\n",
              "\n",
              "          const docLinkHtml = 'Like what you see? Visit the ' +\n",
              "            '<a target=\"_blank\" href=https://colab.research.google.com/notebooks/data_table.ipynb>data table notebook</a>'\n",
              "            + ' to learn more about interactive tables.';\n",
              "          element.innerHTML = '';\n",
              "          dataTable['output_type'] = 'display_data';\n",
              "          await google.colab.output.renderOutput(dataTable, element);\n",
              "          const docLink = document.createElement('div');\n",
              "          docLink.innerHTML = docLinkHtml;\n",
              "          element.appendChild(docLink);\n",
              "        }\n",
              "      </script>\n",
              "    </div>\n",
              "  </div>\n",
              "  "
            ],
            "text/plain": [
              "        real  predicted\n",
              "0   0.176471   0.189988\n",
              "1   0.176471   0.207063\n",
              "2   0.235294   0.271249\n",
              "3   0.647059   0.467973\n",
              "4   0.411765   0.427320\n",
              "5   0.294118   0.327135\n",
              "6   0.352941   0.405373\n",
              "7   0.352941   0.368654\n",
              "8   0.411765   0.401680\n",
              "9   0.294118   0.346323\n",
              "10  0.176471   0.203921\n",
              "11  0.117647   0.151677\n",
              "12  0.058824   0.085576\n",
              "13  0.000000   0.040569\n",
              "14  0.058824   0.064311\n",
              "15  0.235294   0.212771\n",
              "16  0.117647   0.163373\n",
              "17  0.058824   0.071344\n",
              "18  0.352941   0.312981\n",
              "19  0.058824   0.130817\n",
              "20  1.000000   0.468567"
            ]
          },
          "execution_count": 111,
          "metadata": {},
          "output_type": "execute_result"
        }
      ],
      "source": [
        "# rebuild the Structure\n",
        "dataset_pred_real = pd.DataFrame()\n",
        "dataset_pred_real['real'] = target\n",
        "dataset_pred_real['predicted'] = predict\n",
        "dataset_pred_real"
      ]
    },
    {
      "cell_type": "code",
      "execution_count": null,
      "metadata": {
        "id": "DfXoQPTnhFH5"
      },
      "outputs": [],
      "source": [
        "from sklearn.preprocessing import MinMaxScaler"
      ]
    },
    {
      "cell_type": "code",
      "execution_count": null,
      "metadata": {
        "colab": {
          "base_uri": "https://localhost:8080/"
        },
        "id": "zY0Vfz5WXybG",
        "outputId": "9584533c-b1a9-44da-f79a-f5ffeb4cf8ce"
      },
      "outputs": [
        {
          "data": {
            "text/plain": [
              "<keras.engine.sequential.Sequential at 0x7f39aefa0f90>"
            ]
          },
          "execution_count": 113,
          "metadata": {},
          "output_type": "execute_result"
        }
      ],
      "source": [
        "regressor"
      ]
    },
    {
      "cell_type": "code",
      "execution_count": null,
      "metadata": {
        "id": "YEdPQki2cE8K"
      },
      "outputs": [],
      "source": [
        "input_data_prediksi = [[]]"
      ]
    },
    {
      "cell_type": "markdown",
      "metadata": {
        "id": "vVq6w6t9xX6C"
      },
      "source": [
        "#KLBF"
      ]
    },
    {
      "cell_type": "code",
      "execution_count": null,
      "metadata": {
        "id": "nd4i3HSCxr1P"
      },
      "outputs": [],
      "source": [
        "train_df = pd.read_csv('https://raw.githubusercontent.com/shintaaulia/TK/main/KLBF.JK.csv')"
      ]
    },
    {
      "cell_type": "code",
      "execution_count": null,
      "metadata": {
        "id": "z7R-Bgvlxr1S"
      },
      "outputs": [],
      "source": [
        "#menghapus data NAN\n",
        "df = train_df.dropna()"
      ]
    },
    {
      "cell_type": "code",
      "execution_count": null,
      "metadata": {
        "id": "OczKY8yqxr1U"
      },
      "outputs": [],
      "source": [
        "#menghilangkan data hari(date)\n",
        "data = df.drop(columns=['Date'])\n",
        "data_close = df[['Close']]"
      ]
    },
    {
      "cell_type": "code",
      "execution_count": null,
      "metadata": {
        "colab": {
          "base_uri": "https://localhost:8080/"
        },
        "id": "L9u7Mhgmxr1V",
        "outputId": "7808bde4-9414-46c3-e354-3739f18db12b"
      },
      "outputs": [
        {
          "name": "stdout",
          "output_type": "stream",
          "text": [
            "         Open      High       Low     Close  Adj Close    Volume\n",
            "0    0.806452  0.678218  0.911243  0.837989   0.808560  0.019258\n",
            "1    0.806452  0.678218  0.923077  0.860335   0.830122  0.028193\n",
            "2    0.817204  0.683168  0.928994  0.865922   0.835512  0.013999\n",
            "3    0.822581  0.678218  0.911243  0.860335   0.830122  0.023469\n",
            "4    0.779570  0.658416  0.893491  0.804469   0.776218  0.015962\n",
            "..        ...       ...       ...       ...        ...       ...\n",
            "440  0.629032  0.524752  0.721893  0.670391   0.706783  0.032578\n",
            "441  0.655914  0.648515  0.769231  0.754190   0.790707  0.228208\n",
            "442  0.720430  0.648515  0.804734  0.821229   0.857847  0.225601\n",
            "443  0.795699  0.653465  0.887574  0.810056   0.846657  0.140155\n",
            "444  0.784946  0.648515  0.899408  0.821229   0.857847  0.212988\n",
            "\n",
            "[445 rows x 6 columns]\n",
            "        Close\n",
            "0    0.837989\n",
            "1    0.860335\n",
            "2    0.865922\n",
            "3    0.860335\n",
            "4    0.804469\n",
            "..        ...\n",
            "440  0.670391\n",
            "441  0.754190\n",
            "442  0.821229\n",
            "443  0.810056\n",
            "444  0.821229\n",
            "\n",
            "[445 rows x 1 columns]\n"
          ]
        }
      ],
      "source": [
        "#normalisasi data\n",
        "df=(data-data.min())/(data.max()-data.min())\n",
        "\n",
        "train_X = df\n",
        "train_y = df [['Close']]\n",
        "print(train_X)\n",
        "print(train_y)"
      ]
    },
    {
      "cell_type": "code",
      "execution_count": null,
      "metadata": {
        "id": "_3XTd1oSxr1Z"
      },
      "outputs": [],
      "source": [
        "#Perhitungan Backpropagation\n",
        "\n",
        "import tensorflow as tf\n",
        "from tensorflow import keras\n",
        "from tensorflow.keras import Sequential\n",
        "from tensorflow.keras import layers\n",
        "from keras.layers import Activation, Dense\n",
        "from keras.layers import Dropout\n",
        "from keras.models import load_model"
      ]
    },
    {
      "cell_type": "code",
      "execution_count": null,
      "metadata": {
        "id": "S7qUhT0hxr1c"
      },
      "outputs": [],
      "source": [
        "#Membuat model\n",
        "regressor = Sequential ()"
      ]
    },
    {
      "cell_type": "code",
      "execution_count": null,
      "metadata": {
        "id": "XU1s2D2wxr1d"
      },
      "outputs": [],
      "source": [
        "#Mendapatkan nomor kolom dari data training\n",
        "n_cols = train_X.shape[1]"
      ]
    },
    {
      "cell_type": "code",
      "execution_count": null,
      "metadata": {
        "id": "LrFByTshxr1f"
      },
      "outputs": [],
      "source": [
        "#Menambahkan input layer dan first hidden layer dan Drop out Regulation\n",
        "regressor.add(Dense(units = 500, kernel_initializer = 'uniform',activation ='relu', input_shape=(n_cols,)))\n",
        "regressor.add(Dropout(.2))\n"
      ]
    },
    {
      "cell_type": "code",
      "execution_count": null,
      "metadata": {
        "id": "DvTDBTaxxr1h"
      },
      "outputs": [],
      "source": [
        "#Menambahkan output layer\n",
        "regressor.add(Dense(units=1,kernel_initializer='uniform',activation='sigmoid'))"
      ]
    },
    {
      "cell_type": "code",
      "execution_count": null,
      "metadata": {
        "id": "pT44dGtQxr1j"
      },
      "outputs": [],
      "source": [
        "# Compiling the ANN\n",
        "regressor.compile(optimizer='adam', loss='mean_absolute_error')"
      ]
    },
    {
      "cell_type": "code",
      "execution_count": null,
      "metadata": {
        "colab": {
          "background_save": true,
          "base_uri": "https://localhost:8080/"
        },
        "id": "PQ4kKe7Txr1k",
        "outputId": "fe11e10e-2d8d-40ea-fba8-36550008d607"
      },
      "outputs": [
        {
          "name": "stdout",
          "output_type": "stream",
          "text": [
            "Epoch 1/200\n",
            "7/7 [==============================] - 0s 25ms/step - loss: 0.1836 - val_loss: 0.1108\n",
            "Epoch 2/200\n",
            "7/7 [==============================] - 0s 6ms/step - loss: 0.1401 - val_loss: 0.0747\n",
            "Epoch 3/200\n",
            "7/7 [==============================] - 0s 8ms/step - loss: 0.1116 - val_loss: 0.0674\n",
            "Epoch 4/200\n",
            "7/7 [==============================] - 0s 9ms/step - loss: 0.1058 - val_loss: 0.0753\n",
            "Epoch 5/200\n",
            "7/7 [==============================] - 0s 9ms/step - loss: 0.1040 - val_loss: 0.0651\n",
            "Epoch 6/200\n",
            "7/7 [==============================] - 0s 8ms/step - loss: 0.1016 - val_loss: 0.0621\n",
            "Epoch 7/200\n",
            "7/7 [==============================] - 0s 6ms/step - loss: 0.0987 - val_loss: 0.0623\n",
            "Epoch 8/200\n",
            "7/7 [==============================] - 0s 8ms/step - loss: 0.0957 - val_loss: 0.0675\n",
            "Epoch 9/200\n",
            "7/7 [==============================] - 0s 6ms/step - loss: 0.0915 - val_loss: 0.0584\n",
            "Epoch 10/200\n",
            "7/7 [==============================] - 0s 8ms/step - loss: 0.0901 - val_loss: 0.0566\n",
            "Epoch 11/200\n",
            "7/7 [==============================] - 0s 5ms/step - loss: 0.0847 - val_loss: 0.0570\n",
            "Epoch 12/200\n",
            "7/7 [==============================] - 0s 8ms/step - loss: 0.0805 - val_loss: 0.0521\n",
            "Epoch 13/200\n",
            "7/7 [==============================] - 0s 8ms/step - loss: 0.0755 - val_loss: 0.0550\n",
            "Epoch 14/200\n",
            "7/7 [==============================] - 0s 7ms/step - loss: 0.0697 - val_loss: 0.0460\n",
            "Epoch 15/200\n",
            "7/7 [==============================] - 0s 6ms/step - loss: 0.0651 - val_loss: 0.0440\n",
            "Epoch 16/200\n",
            "7/7 [==============================] - 0s 6ms/step - loss: 0.0591 - val_loss: 0.0421\n",
            "Epoch 17/200\n",
            "7/7 [==============================] - 0s 6ms/step - loss: 0.0506 - val_loss: 0.0355\n",
            "Epoch 18/200\n",
            "7/7 [==============================] - 0s 8ms/step - loss: 0.0432 - val_loss: 0.0344\n",
            "Epoch 19/200\n",
            "7/7 [==============================] - 0s 7ms/step - loss: 0.0382 - val_loss: 0.0276\n",
            "Epoch 20/200\n",
            "7/7 [==============================] - 0s 8ms/step - loss: 0.0313 - val_loss: 0.0234\n",
            "Epoch 21/200\n",
            "7/7 [==============================] - 0s 8ms/step - loss: 0.0252 - val_loss: 0.0199\n",
            "Epoch 22/200\n",
            "7/7 [==============================] - 0s 8ms/step - loss: 0.0220 - val_loss: 0.0198\n",
            "Epoch 23/200\n",
            "7/7 [==============================] - 0s 5ms/step - loss: 0.0216 - val_loss: 0.0168\n",
            "Epoch 24/200\n",
            "7/7 [==============================] - 0s 6ms/step - loss: 0.0223 - val_loss: 0.0151\n",
            "Epoch 25/200\n",
            "7/7 [==============================] - 0s 6ms/step - loss: 0.0210 - val_loss: 0.0163\n",
            "Epoch 26/200\n",
            "7/7 [==============================] - 0s 5ms/step - loss: 0.0198 - val_loss: 0.0142\n",
            "Epoch 27/200\n",
            "7/7 [==============================] - 0s 6ms/step - loss: 0.0204 - val_loss: 0.0228\n",
            "Epoch 28/200\n",
            "7/7 [==============================] - 0s 6ms/step - loss: 0.0201 - val_loss: 0.0186\n",
            "Epoch 29/200\n",
            "7/7 [==============================] - 0s 6ms/step - loss: 0.0193 - val_loss: 0.0145\n",
            "Epoch 30/200\n",
            "7/7 [==============================] - 0s 8ms/step - loss: 0.0207 - val_loss: 0.0117\n",
            "Epoch 31/200\n",
            "7/7 [==============================] - 0s 7ms/step - loss: 0.0207 - val_loss: 0.0118\n",
            "Epoch 32/200\n",
            "7/7 [==============================] - 0s 8ms/step - loss: 0.0193 - val_loss: 0.0270\n",
            "Epoch 33/200\n",
            "7/7 [==============================] - 0s 6ms/step - loss: 0.0223 - val_loss: 0.0149\n",
            "Epoch 34/200\n",
            "7/7 [==============================] - 0s 6ms/step - loss: 0.0200 - val_loss: 0.0110\n",
            "Epoch 35/200\n",
            "7/7 [==============================] - 0s 8ms/step - loss: 0.0211 - val_loss: 0.0145\n",
            "Epoch 36/200\n",
            "7/7 [==============================] - 0s 6ms/step - loss: 0.0182 - val_loss: 0.0194\n",
            "Epoch 37/200\n",
            "7/7 [==============================] - 0s 8ms/step - loss: 0.0185 - val_loss: 0.0118\n",
            "Epoch 38/200\n",
            "7/7 [==============================] - 0s 6ms/step - loss: 0.0175 - val_loss: 0.0130\n",
            "Epoch 39/200\n",
            "7/7 [==============================] - 0s 6ms/step - loss: 0.0195 - val_loss: 0.0105\n",
            "Epoch 40/200\n",
            "7/7 [==============================] - 0s 8ms/step - loss: 0.0198 - val_loss: 0.0218\n",
            "Epoch 41/200\n",
            "7/7 [==============================] - 0s 6ms/step - loss: 0.0190 - val_loss: 0.0127\n",
            "Epoch 42/200\n",
            "7/7 [==============================] - 0s 9ms/step - loss: 0.0175 - val_loss: 0.0148\n",
            "Epoch 43/200\n",
            "7/7 [==============================] - 0s 8ms/step - loss: 0.0186 - val_loss: 0.0210\n",
            "Epoch 44/200\n",
            "7/7 [==============================] - 0s 6ms/step - loss: 0.0171 - val_loss: 0.0098\n",
            "Epoch 45/200\n",
            "7/7 [==============================] - 0s 6ms/step - loss: 0.0201 - val_loss: 0.0104\n",
            "Epoch 46/200\n",
            "7/7 [==============================] - 0s 8ms/step - loss: 0.0187 - val_loss: 0.0276\n",
            "Epoch 47/200\n",
            "7/7 [==============================] - 0s 6ms/step - loss: 0.0201 - val_loss: 0.0127\n",
            "Epoch 48/200\n",
            "7/7 [==============================] - 0s 8ms/step - loss: 0.0213 - val_loss: 0.0097\n",
            "Epoch 49/200\n",
            "7/7 [==============================] - 0s 9ms/step - loss: 0.0200 - val_loss: 0.0203\n",
            "Epoch 50/200\n",
            "7/7 [==============================] - 0s 9ms/step - loss: 0.0188 - val_loss: 0.0161\n",
            "Epoch 51/200\n",
            "7/7 [==============================] - 0s 9ms/step - loss: 0.0181 - val_loss: 0.0103\n",
            "Epoch 52/200\n",
            "7/7 [==============================] - 0s 9ms/step - loss: 0.0190 - val_loss: 0.0135\n",
            "Epoch 53/200\n",
            "7/7 [==============================] - 0s 9ms/step - loss: 0.0191 - val_loss: 0.0233\n",
            "Epoch 54/200\n",
            "7/7 [==============================] - 0s 8ms/step - loss: 0.0197 - val_loss: 0.0130\n",
            "Epoch 55/200\n",
            "7/7 [==============================] - 0s 8ms/step - loss: 0.0174 - val_loss: 0.0144\n",
            "Epoch 56/200\n",
            "7/7 [==============================] - 0s 8ms/step - loss: 0.0172 - val_loss: 0.0136\n",
            "Epoch 57/200\n",
            "7/7 [==============================] - 0s 6ms/step - loss: 0.0175 - val_loss: 0.0104\n",
            "Epoch 58/200\n",
            "7/7 [==============================] - 0s 9ms/step - loss: 0.0180 - val_loss: 0.0154\n",
            "Epoch 59/200\n",
            "7/7 [==============================] - 0s 8ms/step - loss: 0.0185 - val_loss: 0.0195\n",
            "Epoch 60/200\n",
            "7/7 [==============================] - 0s 6ms/step - loss: 0.0181 - val_loss: 0.0095\n",
            "Epoch 61/200\n",
            "7/7 [==============================] - 0s 6ms/step - loss: 0.0204 - val_loss: 0.0200\n",
            "Epoch 62/200\n",
            "7/7 [==============================] - 0s 13ms/step - loss: 0.0189 - val_loss: 0.0212\n",
            "Epoch 63/200\n",
            "7/7 [==============================] - 0s 7ms/step - loss: 0.0197 - val_loss: 0.0095\n",
            "Epoch 64/200\n",
            "7/7 [==============================] - 0s 7ms/step - loss: 0.0177 - val_loss: 0.0144\n",
            "Epoch 65/200\n",
            "7/7 [==============================] - 0s 8ms/step - loss: 0.0177 - val_loss: 0.0121\n",
            "Epoch 66/200\n",
            "7/7 [==============================] - 0s 6ms/step - loss: 0.0174 - val_loss: 0.0139\n",
            "Epoch 67/200\n",
            "7/7 [==============================] - 0s 5ms/step - loss: 0.0171 - val_loss: 0.0124\n",
            "Epoch 68/200\n",
            "7/7 [==============================] - 0s 8ms/step - loss: 0.0173 - val_loss: 0.0160\n",
            "Epoch 69/200\n",
            "7/7 [==============================] - 0s 8ms/step - loss: 0.0170 - val_loss: 0.0107\n",
            "Epoch 70/200\n",
            "7/7 [==============================] - 0s 6ms/step - loss: 0.0171 - val_loss: 0.0156\n",
            "Epoch 71/200\n",
            "7/7 [==============================] - 0s 7ms/step - loss: 0.0165 - val_loss: 0.0112\n",
            "Epoch 72/200\n",
            "7/7 [==============================] - 0s 8ms/step - loss: 0.0176 - val_loss: 0.0095\n",
            "Epoch 73/200\n",
            "7/7 [==============================] - 0s 8ms/step - loss: 0.0184 - val_loss: 0.0136\n",
            "Epoch 74/200\n",
            "7/7 [==============================] - 0s 9ms/step - loss: 0.0162 - val_loss: 0.0130\n",
            "Epoch 75/200\n",
            "7/7 [==============================] - 0s 8ms/step - loss: 0.0167 - val_loss: 0.0097\n",
            "Epoch 76/200\n",
            "7/7 [==============================] - 0s 8ms/step - loss: 0.0167 - val_loss: 0.0158\n",
            "Epoch 77/200\n",
            "7/7 [==============================] - 0s 8ms/step - loss: 0.0166 - val_loss: 0.0190\n",
            "Epoch 78/200\n",
            "7/7 [==============================] - 0s 7ms/step - loss: 0.0170 - val_loss: 0.0120\n",
            "Epoch 79/200\n",
            "7/7 [==============================] - 0s 6ms/step - loss: 0.0155 - val_loss: 0.0157\n",
            "Epoch 80/200\n",
            "7/7 [==============================] - 0s 8ms/step - loss: 0.0174 - val_loss: 0.0119\n",
            "Epoch 81/200\n",
            "7/7 [==============================] - 0s 7ms/step - loss: 0.0172 - val_loss: 0.0112\n",
            "Epoch 82/200\n",
            "7/7 [==============================] - 0s 9ms/step - loss: 0.0167 - val_loss: 0.0211\n",
            "Epoch 83/200\n",
            "7/7 [==============================] - 0s 6ms/step - loss: 0.0181 - val_loss: 0.0143\n",
            "Epoch 84/200\n",
            "7/7 [==============================] - 0s 8ms/step - loss: 0.0152 - val_loss: 0.0120\n",
            "Epoch 85/200\n",
            "7/7 [==============================] - 0s 8ms/step - loss: 0.0168 - val_loss: 0.0161\n",
            "Epoch 86/200\n",
            "7/7 [==============================] - 0s 8ms/step - loss: 0.0163 - val_loss: 0.0125\n",
            "Epoch 87/200\n",
            "7/7 [==============================] - 0s 6ms/step - loss: 0.0177 - val_loss: 0.0100\n",
            "Epoch 88/200\n",
            "7/7 [==============================] - 0s 8ms/step - loss: 0.0172 - val_loss: 0.0214\n",
            "Epoch 89/200\n",
            "7/7 [==============================] - 0s 5ms/step - loss: 0.0176 - val_loss: 0.0127\n",
            "Epoch 90/200\n",
            "7/7 [==============================] - 0s 6ms/step - loss: 0.0181 - val_loss: 0.0089\n",
            "Epoch 91/200\n",
            "7/7 [==============================] - 0s 6ms/step - loss: 0.0173 - val_loss: 0.0181\n",
            "Epoch 92/200\n",
            "7/7 [==============================] - 0s 8ms/step - loss: 0.0160 - val_loss: 0.0091\n",
            "Epoch 93/200\n",
            "7/7 [==============================] - 0s 6ms/step - loss: 0.0152 - val_loss: 0.0119\n",
            "Epoch 94/200\n",
            "7/7 [==============================] - 0s 7ms/step - loss: 0.0158 - val_loss: 0.0165\n",
            "Epoch 95/200\n",
            "7/7 [==============================] - 0s 9ms/step - loss: 0.0180 - val_loss: 0.0120\n",
            "Epoch 96/200\n",
            "7/7 [==============================] - 0s 7ms/step - loss: 0.0169 - val_loss: 0.0092\n",
            "Epoch 97/200\n",
            "7/7 [==============================] - 0s 8ms/step - loss: 0.0164 - val_loss: 0.0210\n",
            "Epoch 98/200\n",
            "7/7 [==============================] - 0s 10ms/step - loss: 0.0166 - val_loss: 0.0139\n",
            "Epoch 99/200\n",
            "7/7 [==============================] - 0s 6ms/step - loss: 0.0154 - val_loss: 0.0097\n",
            "Epoch 100/200\n",
            "7/7 [==============================] - 0s 7ms/step - loss: 0.0168 - val_loss: 0.0105\n",
            "Epoch 101/200\n",
            "7/7 [==============================] - 0s 9ms/step - loss: 0.0159 - val_loss: 0.0189\n",
            "Epoch 102/200\n",
            "7/7 [==============================] - 0s 7ms/step - loss: 0.0168 - val_loss: 0.0127\n",
            "Epoch 103/200\n",
            "7/7 [==============================] - 0s 9ms/step - loss: 0.0161 - val_loss: 0.0087\n",
            "Epoch 104/200\n",
            "7/7 [==============================] - 0s 6ms/step - loss: 0.0169 - val_loss: 0.0143\n",
            "Epoch 105/200\n",
            "7/7 [==============================] - 0s 6ms/step - loss: 0.0163 - val_loss: 0.0188\n",
            "Epoch 106/200\n",
            "7/7 [==============================] - 0s 7ms/step - loss: 0.0167 - val_loss: 0.0134\n",
            "Epoch 107/200\n",
            "7/7 [==============================] - 0s 6ms/step - loss: 0.0163 - val_loss: 0.0118\n",
            "Epoch 108/200\n",
            "7/7 [==============================] - 0s 8ms/step - loss: 0.0153 - val_loss: 0.0130\n",
            "Epoch 109/200\n",
            "7/7 [==============================] - 0s 6ms/step - loss: 0.0151 - val_loss: 0.0110\n",
            "Epoch 110/200\n",
            "7/7 [==============================] - 0s 6ms/step - loss: 0.0152 - val_loss: 0.0160\n",
            "Epoch 111/200\n",
            "7/7 [==============================] - 0s 8ms/step - loss: 0.0165 - val_loss: 0.0092\n",
            "Epoch 112/200\n",
            "7/7 [==============================] - 0s 8ms/step - loss: 0.0152 - val_loss: 0.0137\n",
            "Epoch 113/200\n",
            "7/7 [==============================] - 0s 9ms/step - loss: 0.0163 - val_loss: 0.0158\n",
            "Epoch 114/200\n",
            "7/7 [==============================] - 0s 6ms/step - loss: 0.0162 - val_loss: 0.0086\n",
            "Epoch 115/200\n",
            "7/7 [==============================] - 0s 9ms/step - loss: 0.0170 - val_loss: 0.0186\n",
            "Epoch 116/200\n",
            "7/7 [==============================] - 0s 6ms/step - loss: 0.0153 - val_loss: 0.0203\n",
            "Epoch 117/200\n",
            "7/7 [==============================] - 0s 9ms/step - loss: 0.0168 - val_loss: 0.0078\n",
            "Epoch 118/200\n",
            "7/7 [==============================] - 0s 8ms/step - loss: 0.0162 - val_loss: 0.0162\n",
            "Epoch 119/200\n",
            "7/7 [==============================] - 0s 6ms/step - loss: 0.0156 - val_loss: 0.0126\n",
            "Epoch 120/200\n",
            "7/7 [==============================] - 0s 6ms/step - loss: 0.0143 - val_loss: 0.0109\n",
            "Epoch 121/200\n",
            "7/7 [==============================] - 0s 6ms/step - loss: 0.0160 - val_loss: 0.0102\n",
            "Epoch 122/200\n",
            "7/7 [==============================] - 0s 6ms/step - loss: 0.0144 - val_loss: 0.0135\n",
            "Epoch 123/200\n",
            "7/7 [==============================] - 0s 7ms/step - loss: 0.0142 - val_loss: 0.0185\n",
            "Epoch 124/200\n",
            "7/7 [==============================] - 0s 6ms/step - loss: 0.0163 - val_loss: 0.0103\n",
            "Epoch 125/200\n",
            "7/7 [==============================] - 0s 6ms/step - loss: 0.0147 - val_loss: 0.0169\n",
            "Epoch 126/200\n",
            "7/7 [==============================] - 0s 8ms/step - loss: 0.0158 - val_loss: 0.0097\n",
            "Epoch 127/200\n",
            "7/7 [==============================] - 0s 8ms/step - loss: 0.0156 - val_loss: 0.0105\n",
            "Epoch 128/200\n",
            "7/7 [==============================] - 0s 6ms/step - loss: 0.0153 - val_loss: 0.0121\n",
            "Epoch 129/200\n",
            "7/7 [==============================] - 0s 6ms/step - loss: 0.0152 - val_loss: 0.0170\n",
            "Epoch 130/200\n",
            "7/7 [==============================] - 0s 9ms/step - loss: 0.0156 - val_loss: 0.0096\n",
            "Epoch 131/200\n",
            "7/7 [==============================] - 0s 9ms/step - loss: 0.0159 - val_loss: 0.0137\n",
            "Epoch 132/200\n",
            "7/7 [==============================] - 0s 8ms/step - loss: 0.0148 - val_loss: 0.0178\n",
            "Epoch 133/200\n",
            "7/7 [==============================] - 0s 8ms/step - loss: 0.0141 - val_loss: 0.0166\n",
            "Epoch 134/200\n",
            "7/7 [==============================] - 0s 8ms/step - loss: 0.0154 - val_loss: 0.0083\n",
            "Epoch 135/200\n",
            "7/7 [==============================] - 0s 6ms/step - loss: 0.0145 - val_loss: 0.0129\n",
            "Epoch 136/200\n",
            "7/7 [==============================] - 0s 8ms/step - loss: 0.0150 - val_loss: 0.0108\n",
            "Epoch 137/200\n",
            "7/7 [==============================] - 0s 7ms/step - loss: 0.0152 - val_loss: 0.0093\n",
            "Epoch 138/200\n",
            "7/7 [==============================] - 0s 8ms/step - loss: 0.0151 - val_loss: 0.0083\n",
            "Epoch 139/200\n",
            "7/7 [==============================] - 0s 7ms/step - loss: 0.0157 - val_loss: 0.0142\n",
            "Epoch 140/200\n",
            "7/7 [==============================] - 0s 6ms/step - loss: 0.0149 - val_loss: 0.0197\n",
            "Epoch 141/200\n",
            "7/7 [==============================] - 0s 9ms/step - loss: 0.0151 - val_loss: 0.0089\n",
            "Epoch 142/200\n",
            "7/7 [==============================] - 0s 8ms/step - loss: 0.0163 - val_loss: 0.0092\n",
            "Epoch 143/200\n",
            "7/7 [==============================] - 0s 8ms/step - loss: 0.0158 - val_loss: 0.0184\n",
            "Epoch 144/200\n",
            "7/7 [==============================] - 0s 8ms/step - loss: 0.0147 - val_loss: 0.0136\n",
            "Epoch 145/200\n",
            "7/7 [==============================] - 0s 9ms/step - loss: 0.0150 - val_loss: 0.0109\n",
            "Epoch 146/200\n",
            "7/7 [==============================] - 0s 6ms/step - loss: 0.0156 - val_loss: 0.0153\n",
            "Epoch 147/200\n",
            "7/7 [==============================] - 0s 6ms/step - loss: 0.0145 - val_loss: 0.0128\n",
            "Epoch 148/200\n",
            "7/7 [==============================] - 0s 9ms/step - loss: 0.0135 - val_loss: 0.0120\n",
            "Epoch 149/200\n",
            "7/7 [==============================] - 0s 6ms/step - loss: 0.0144 - val_loss: 0.0156\n",
            "Epoch 150/200\n",
            "7/7 [==============================] - 0s 9ms/step - loss: 0.0136 - val_loss: 0.0117\n",
            "Epoch 151/200\n",
            "7/7 [==============================] - 0s 8ms/step - loss: 0.0137 - val_loss: 0.0092\n",
            "Epoch 152/200\n",
            "7/7 [==============================] - 0s 8ms/step - loss: 0.0144 - val_loss: 0.0103\n",
            "Epoch 153/200\n",
            "7/7 [==============================] - 0s 6ms/step - loss: 0.0153 - val_loss: 0.0154\n",
            "Epoch 154/200\n",
            "7/7 [==============================] - 0s 8ms/step - loss: 0.0152 - val_loss: 0.0165\n",
            "Epoch 155/200\n",
            "7/7 [==============================] - 0s 8ms/step - loss: 0.0142 - val_loss: 0.0112\n",
            "Epoch 156/200\n",
            "7/7 [==============================] - 0s 9ms/step - loss: 0.0138 - val_loss: 0.0143\n",
            "Epoch 157/200\n",
            "7/7 [==============================] - 0s 6ms/step - loss: 0.0138 - val_loss: 0.0072\n",
            "Epoch 158/200\n",
            "7/7 [==============================] - 0s 6ms/step - loss: 0.0148 - val_loss: 0.0110\n",
            "Epoch 159/200\n",
            "7/7 [==============================] - 0s 8ms/step - loss: 0.0137 - val_loss: 0.0135\n",
            "Epoch 160/200\n",
            "7/7 [==============================] - 0s 8ms/step - loss: 0.0138 - val_loss: 0.0125\n",
            "Epoch 161/200\n",
            "7/7 [==============================] - 0s 6ms/step - loss: 0.0134 - val_loss: 0.0102\n",
            "Epoch 162/200\n",
            "7/7 [==============================] - 0s 8ms/step - loss: 0.0138 - val_loss: 0.0178\n",
            "Epoch 163/200\n",
            "7/7 [==============================] - 0s 8ms/step - loss: 0.0142 - val_loss: 0.0147\n",
            "Epoch 164/200\n",
            "7/7 [==============================] - 0s 6ms/step - loss: 0.0129 - val_loss: 0.0167\n",
            "Epoch 165/200\n",
            "7/7 [==============================] - 0s 7ms/step - loss: 0.0144 - val_loss: 0.0131\n",
            "Epoch 166/200\n",
            "7/7 [==============================] - 0s 7ms/step - loss: 0.0127 - val_loss: 0.0157\n",
            "Epoch 167/200\n",
            "7/7 [==============================] - 0s 9ms/step - loss: 0.0140 - val_loss: 0.0185\n",
            "Epoch 168/200\n",
            "7/7 [==============================] - 0s 7ms/step - loss: 0.0140 - val_loss: 0.0134\n",
            "Epoch 169/200\n",
            "7/7 [==============================] - 0s 6ms/step - loss: 0.0146 - val_loss: 0.0079\n",
            "Epoch 170/200\n",
            "7/7 [==============================] - 0s 9ms/step - loss: 0.0137 - val_loss: 0.0192\n",
            "Epoch 171/200\n",
            "7/7 [==============================] - 0s 7ms/step - loss: 0.0139 - val_loss: 0.0121\n",
            "Epoch 172/200\n",
            "7/7 [==============================] - 0s 6ms/step - loss: 0.0130 - val_loss: 0.0104\n",
            "Epoch 173/200\n",
            "7/7 [==============================] - 0s 9ms/step - loss: 0.0138 - val_loss: 0.0130\n",
            "Epoch 174/200\n",
            "7/7 [==============================] - 0s 9ms/step - loss: 0.0141 - val_loss: 0.0089\n",
            "Epoch 175/200\n",
            "7/7 [==============================] - 0s 7ms/step - loss: 0.0144 - val_loss: 0.0119\n",
            "Epoch 176/200\n",
            "7/7 [==============================] - 0s 7ms/step - loss: 0.0146 - val_loss: 0.0225\n",
            "Epoch 177/200\n",
            "7/7 [==============================] - 0s 8ms/step - loss: 0.0147 - val_loss: 0.0135\n",
            "Epoch 178/200\n",
            "7/7 [==============================] - 0s 8ms/step - loss: 0.0154 - val_loss: 0.0071\n",
            "Epoch 179/200\n",
            "7/7 [==============================] - 0s 9ms/step - loss: 0.0160 - val_loss: 0.0141\n",
            "Epoch 180/200\n",
            "7/7 [==============================] - 0s 9ms/step - loss: 0.0144 - val_loss: 0.0192\n",
            "Epoch 181/200\n",
            "7/7 [==============================] - 0s 7ms/step - loss: 0.0141 - val_loss: 0.0176\n",
            "Epoch 182/200\n",
            "7/7 [==============================] - 0s 7ms/step - loss: 0.0133 - val_loss: 0.0125\n",
            "Epoch 183/200\n",
            "7/7 [==============================] - 0s 7ms/step - loss: 0.0141 - val_loss: 0.0067\n",
            "Epoch 184/200\n",
            "7/7 [==============================] - 0s 9ms/step - loss: 0.0146 - val_loss: 0.0146\n",
            "Epoch 185/200\n",
            "7/7 [==============================] - 0s 6ms/step - loss: 0.0140 - val_loss: 0.0174\n",
            "Epoch 186/200\n",
            "7/7 [==============================] - 0s 9ms/step - loss: 0.0136 - val_loss: 0.0190\n",
            "Epoch 187/200\n",
            "7/7 [==============================] - 0s 7ms/step - loss: 0.0138 - val_loss: 0.0131\n",
            "Epoch 188/200\n",
            "7/7 [==============================] - 0s 9ms/step - loss: 0.0138 - val_loss: 0.0071\n",
            "Epoch 189/200\n",
            "7/7 [==============================] - 0s 6ms/step - loss: 0.0139 - val_loss: 0.0161\n",
            "Epoch 190/200\n",
            "7/7 [==============================] - 0s 8ms/step - loss: 0.0138 - val_loss: 0.0154\n",
            "Epoch 191/200\n",
            "7/7 [==============================] - 0s 8ms/step - loss: 0.0134 - val_loss: 0.0093\n",
            "Epoch 192/200\n",
            "7/7 [==============================] - 0s 9ms/step - loss: 0.0129 - val_loss: 0.0170\n",
            "Epoch 193/200\n",
            "7/7 [==============================] - 0s 10ms/step - loss: 0.0147 - val_loss: 0.0262\n",
            "Epoch 194/200\n",
            "7/7 [==============================] - 0s 7ms/step - loss: 0.0157 - val_loss: 0.0094\n",
            "Epoch 195/200\n",
            "7/7 [==============================] - 0s 6ms/step - loss: 0.0134 - val_loss: 0.0084\n",
            "Epoch 196/200\n",
            "7/7 [==============================] - 0s 8ms/step - loss: 0.0129 - val_loss: 0.0116\n",
            "Epoch 197/200\n",
            "7/7 [==============================] - 0s 9ms/step - loss: 0.0132 - val_loss: 0.0162\n",
            "Epoch 198/200\n",
            "7/7 [==============================] - 0s 8ms/step - loss: 0.0135 - val_loss: 0.0106\n",
            "Epoch 199/200\n",
            "7/7 [==============================] - 0s 6ms/step - loss: 0.0134 - val_loss: 0.0076\n",
            "Epoch 200/200\n",
            "7/7 [==============================] - 0s 6ms/step - loss: 0.0133 - val_loss: 0.0088\n"
          ]
        },
        {
          "data": {
            "text/plain": [
              "<keras.callbacks.History at 0x7f39aefc9410>"
            ]
          },
          "execution_count": null,
          "metadata": {},
          "output_type": "execute_result"
        }
      ],
      "source": [
        "#Fitting untuk ANN dari Data Training\n",
        "regressor.fit(train_X,train_y,validation_split=0.5,epochs=200)"
      ]
    },
    {
      "cell_type": "code",
      "execution_count": null,
      "metadata": {
        "colab": {
          "background_save": true
        },
        "id": "bYch-xX4xr1m"
      },
      "outputs": [],
      "source": [
        "#Menyimpan Model Training\n",
        "regressor.save('model.h5')"
      ]
    },
    {
      "cell_type": "code",
      "execution_count": null,
      "metadata": {
        "colab": {
          "background_save": true
        },
        "id": "j7nCPg2Exr1o"
      },
      "outputs": [],
      "source": [
        "# Memprediksi Harga Saham pada masa yang akan datang\n",
        "\n",
        "#Membaca data menggunakan pandas\n",
        "test_df = pd.read_csv('https://raw.githubusercontent.com/shintaaulia/TK/main/KLBF.JK.csv')\n",
        "\n",
        "#menghapus data NAN\n",
        "df = train_df.dropna()\n",
        "\n",
        "#Menghapus data kosong\n",
        "test_data = test_df.drop(columns=['Date'])\n",
        "data_test_close=test_df[['Close']]\n",
        "\n",
        "#Normalisasi Data\n",
        "nor=(test_data-test_data.min())/(test_data.max()-test_data.min())\n",
        "\n",
        "#Membuat dataframe dengan semua data training except the target column\n",
        "test_X=nor\n",
        "\n",
        "#Membuat dataframe dengan hanya target column\n",
        "test_y=nor[['Close']]"
      ]
    },
    {
      "cell_type": "code",
      "execution_count": null,
      "metadata": {
        "colab": {
          "background_save": true
        },
        "id": "iXOxVkICxr1s"
      },
      "outputs": [],
      "source": [
        "import matplotlib.pyplot as plt\n",
        "#delete the exiting model\n",
        "del regressor\n",
        "\n",
        "#load traning model\n",
        "regressor = load_model('model.h5')"
      ]
    },
    {
      "cell_type": "code",
      "execution_count": null,
      "metadata": {
        "colab": {
          "background_save": true
        },
        "id": "TuFLrymNxr1t",
        "outputId": "2f36b8ce-18b6-455a-fb40-7a21c2e12a71"
      },
      "outputs": [
        {
          "data": {
            "image/png": "[encoded data removed]",
            "text/plain": [
              "<Figure size 432x288 with 1 Axes>"
            ]
          },
          "metadata": {},
          "output_type": "display_data"
        },
        {
          "name": "stdout",
          "output_type": "stream",
          "text": [
            "mse 8.678389493454006e-05\n"
          ]
        }
      ],
      "source": [
        "####Prediksi dan Test Model####\n",
        "input_data=test_X.values\n",
        "real_close_price=test_y.values\n",
        "\n",
        "predicted_close_price = regressor.predict(input_data)\n",
        "target = real_close_price[~np.isnan(real_close_price)]\n",
        "predict = predicted_close_price[~np.isnan(predicted_close_price)]\n",
        "plt.plot(target)\n",
        "plt.plot(predict,'--')\n",
        "plt.title('Stock Price Prediction')\n",
        "plt.ylabel('Stock Price')\n",
        "plt.show()\n",
        " \n",
        "def mse(predictions,target):\n",
        "  return 0.5 * (((predictions-target)**2).mean())\n",
        " \n",
        "#mse =((real_close_price-predicted_close_price)**2).mean(axis=1)\n",
        "b = mse(predict.flatten(),target.flatten())\n",
        "print('mse', b)\n"
      ]
    },
    {
      "cell_type": "markdown",
      "metadata": {
        "id": "QSlLoTpuxs_E"
      },
      "source": [
        "#HEAL"
      ]
    },
    {
      "cell_type": "code",
      "execution_count": null,
      "metadata": {
        "colab": {
          "background_save": true
        },
        "id": "c4N2DVGsylo7"
      },
      "outputs": [],
      "source": []
    },
    {
      "cell_type": "code",
      "execution_count": null,
      "metadata": {
        "colab": {
          "background_save": true
        },
        "id": "5wsa-DFfyl9k"
      },
      "outputs": [],
      "source": [
        "train_df = pd.read_csv('https://raw.githubusercontent.com/shintaaulia/TK/main/HEAL.JK.csv')"
      ]
    },
    {
      "cell_type": "code",
      "execution_count": null,
      "metadata": {
        "id": "iw4ekVeayl9l"
      },
      "outputs": [],
      "source": [
        "#menghapus data NAN\n",
        "df = train_df.dropna()"
      ]
    },
    {
      "cell_type": "code",
      "execution_count": null,
      "metadata": {
        "id": "9kTjln38yl9m"
      },
      "outputs": [],
      "source": [
        "#menghilangkan data hari(date)\n",
        "data = df.drop(columns=['Date'])\n",
        "data_close = df[['Close']]"
      ]
    },
    {
      "cell_type": "code",
      "execution_count": null,
      "metadata": {
        "id": "yVhFuk3Myl9n"
      },
      "outputs": [],
      "source": [
        "#normalisasi data\n",
        "df=(data-data.min())/(data.max()-data.min())\n",
        "\n",
        "train_X = df\n",
        "train_y = df [['Close']]\n",
        "print(train_X)\n",
        "print(train_y)"
      ]
    },
    {
      "cell_type": "code",
      "execution_count": null,
      "metadata": {
        "id": "h8imqUl5yl9p"
      },
      "outputs": [],
      "source": [
        "#Perhitungan Backpropagation\n",
        "\n",
        "import tensorflow as tf\n",
        "from tensorflow import keras\n",
        "from tensorflow.keras import Sequential\n",
        "from tensorflow.keras import layers\n",
        "from keras.layers import Activation, Dense\n",
        "from keras.layers import Dropout\n",
        "from keras.models import load_model"
      ]
    },
    {
      "cell_type": "code",
      "execution_count": null,
      "metadata": {
        "id": "ldZ4_NMiyl9q"
      },
      "outputs": [],
      "source": [
        "#Membuat model\n",
        "regressor = Sequential ()"
      ]
    },
    {
      "cell_type": "code",
      "execution_count": null,
      "metadata": {
        "id": "zU4rx-4Nyl9q"
      },
      "outputs": [],
      "source": [
        "#Mendapatkan nomor kolom dari data training\n",
        "n_cols = train_X.shape[1]"
      ]
    },
    {
      "cell_type": "code",
      "execution_count": null,
      "metadata": {
        "id": "x0s1aZc_yl9r"
      },
      "outputs": [],
      "source": [
        "#Menambahkan input layer dan first hidden layer dan Drop out Regulation\n",
        "regressor.add(Dense(units = 500, kernel_initializer = 'uniform',activation ='relu', input_shape=(n_cols,)))\n",
        "regressor.add(Dropout(.2))\n"
      ]
    },
    {
      "cell_type": "code",
      "execution_count": null,
      "metadata": {
        "id": "FHItc8nCyl9s"
      },
      "outputs": [],
      "source": [
        "#Menambahkan output layer\n",
        "regressor.add(Dense(units=1,kernel_initializer='uniform',activation='sigmoid'))"
      ]
    },
    {
      "cell_type": "code",
      "execution_count": null,
      "metadata": {
        "id": "fM13BJhCyl9s"
      },
      "outputs": [],
      "source": [
        "# Compiling the ANN\n",
        "regressor.compile(optimizer='adam', loss='mean_absolute_error')"
      ]
    },
    {
      "cell_type": "code",
      "execution_count": null,
      "metadata": {
        "colab": {
          "background_save": true
        },
        "id": "sAsdpQ5Pyl9t",
        "outputId": "7f5884e3-12a5-41b6-cf6c-154c2b9ff28e"
      },
      "outputs": [
        {
          "name": "stdout",
          "output_type": "stream",
          "text": [
            "Epoch 1/200\n",
            "7/7 [==============================] - 1s 66ms/step - loss: 0.2220 - val_loss: 0.2510\n",
            "Epoch 2/200\n",
            "7/7 [==============================] - 0s 8ms/step - loss: 0.1875 - val_loss: 0.3185\n",
            "Epoch 3/200\n",
            "7/7 [==============================] - 0s 8ms/step - loss: 0.1459 - val_loss: 0.4044\n",
            "Epoch 4/200\n",
            "7/7 [==============================] - 0s 8ms/step - loss: 0.1024 - val_loss: 0.4895\n",
            "Epoch 5/200\n",
            "7/7 [==============================] - 0s 6ms/step - loss: 0.0846 - val_loss: 0.5412\n",
            "Epoch 6/200\n",
            "7/7 [==============================] - 0s 6ms/step - loss: 0.0865 - val_loss: 0.5441\n",
            "Epoch 7/200\n",
            "7/7 [==============================] - 0s 8ms/step - loss: 0.0839 - val_loss: 0.5198\n",
            "Epoch 8/200\n",
            "7/7 [==============================] - 0s 6ms/step - loss: 0.0791 - val_loss: 0.4998\n",
            "Epoch 9/200\n",
            "7/7 [==============================] - 0s 6ms/step - loss: 0.0784 - val_loss: 0.4993\n",
            "Epoch 10/200\n",
            "7/7 [==============================] - 0s 6ms/step - loss: 0.0769 - val_loss: 0.5076\n",
            "Epoch 11/200\n",
            "7/7 [==============================] - 0s 8ms/step - loss: 0.0763 - val_loss: 0.5047\n",
            "Epoch 12/200\n",
            "7/7 [==============================] - 0s 8ms/step - loss: 0.0748 - val_loss: 0.4889\n",
            "Epoch 13/200\n",
            "7/7 [==============================] - 0s 8ms/step - loss: 0.0729 - val_loss: 0.4864\n",
            "Epoch 14/200\n",
            "7/7 [==============================] - 0s 6ms/step - loss: 0.0721 - val_loss: 0.4861\n",
            "Epoch 15/200\n",
            "7/7 [==============================] - 0s 8ms/step - loss: 0.0701 - val_loss: 0.4808\n",
            "Epoch 16/200\n",
            "7/7 [==============================] - 0s 8ms/step - loss: 0.0683 - val_loss: 0.4714\n",
            "Epoch 17/200\n",
            "7/7 [==============================] - 0s 8ms/step - loss: 0.0665 - val_loss: 0.4702\n",
            "Epoch 18/200\n",
            "7/7 [==============================] - 0s 8ms/step - loss: 0.0639 - val_loss: 0.4577\n",
            "Epoch 19/200\n",
            "7/7 [==============================] - 0s 6ms/step - loss: 0.0624 - val_loss: 0.4512\n",
            "Epoch 20/200\n",
            "7/7 [==============================] - 0s 8ms/step - loss: 0.0593 - val_loss: 0.4424\n",
            "Epoch 21/200\n",
            "7/7 [==============================] - 0s 8ms/step - loss: 0.0564 - val_loss: 0.4302\n",
            "Epoch 22/200\n",
            "7/7 [==============================] - 0s 8ms/step - loss: 0.0548 - val_loss: 0.4236\n",
            "Epoch 23/200\n",
            "7/7 [==============================] - 0s 8ms/step - loss: 0.0517 - val_loss: 0.4045\n",
            "Epoch 24/200\n",
            "7/7 [==============================] - 0s 6ms/step - loss: 0.0499 - val_loss: 0.4025\n",
            "Epoch 25/200\n",
            "7/7 [==============================] - 0s 8ms/step - loss: 0.0447 - val_loss: 0.3854\n",
            "Epoch 26/200\n",
            "7/7 [==============================] - 0s 8ms/step - loss: 0.0417 - val_loss: 0.3721\n",
            "Epoch 27/200\n",
            "7/7 [==============================] - 0s 8ms/step - loss: 0.0388 - val_loss: 0.3589\n",
            "Epoch 28/200\n",
            "7/7 [==============================] - 0s 8ms/step - loss: 0.0361 - val_loss: 0.3495\n",
            "Epoch 29/200\n",
            "7/7 [==============================] - 0s 6ms/step - loss: 0.0325 - val_loss: 0.3289\n",
            "Epoch 30/200\n",
            "7/7 [==============================] - 0s 8ms/step - loss: 0.0301 - val_loss: 0.3241\n",
            "Epoch 31/200\n",
            "7/7 [==============================] - 0s 5ms/step - loss: 0.0255 - val_loss: 0.3085\n",
            "Epoch 32/200\n",
            "7/7 [==============================] - 0s 8ms/step - loss: 0.0223 - val_loss: 0.2967\n",
            "Epoch 33/200\n",
            "7/7 [==============================] - 0s 8ms/step - loss: 0.0208 - val_loss: 0.2838\n",
            "Epoch 34/200\n",
            "7/7 [==============================] - 0s 8ms/step - loss: 0.0174 - val_loss: 0.2777\n",
            "Epoch 35/200\n",
            "7/7 [==============================] - 0s 6ms/step - loss: 0.0166 - val_loss: 0.2684\n",
            "Epoch 36/200\n",
            "7/7 [==============================] - 0s 7ms/step - loss: 0.0151 - val_loss: 0.2589\n",
            "Epoch 37/200\n",
            "7/7 [==============================] - 0s 6ms/step - loss: 0.0141 - val_loss: 0.2550\n",
            "Epoch 38/200\n",
            "7/7 [==============================] - 0s 8ms/step - loss: 0.0135 - val_loss: 0.2558\n",
            "Epoch 39/200\n",
            "7/7 [==============================] - 0s 6ms/step - loss: 0.0122 - val_loss: 0.2536\n",
            "Epoch 40/200\n",
            "7/7 [==============================] - 0s 8ms/step - loss: 0.0118 - val_loss: 0.2502\n",
            "Epoch 41/200\n",
            "7/7 [==============================] - 0s 8ms/step - loss: 0.0114 - val_loss: 0.2482\n",
            "Epoch 42/200\n",
            "7/7 [==============================] - 0s 8ms/step - loss: 0.0111 - val_loss: 0.2453\n",
            "Epoch 43/200\n",
            "7/7 [==============================] - 0s 6ms/step - loss: 0.0119 - val_loss: 0.2484\n",
            "Epoch 44/200\n",
            "7/7 [==============================] - 0s 8ms/step - loss: 0.0099 - val_loss: 0.2475\n",
            "Epoch 45/200\n",
            "7/7 [==============================] - 0s 8ms/step - loss: 0.0101 - val_loss: 0.2442\n",
            "Epoch 46/200\n",
            "7/7 [==============================] - 0s 7ms/step - loss: 0.0094 - val_loss: 0.2447\n",
            "Epoch 47/200\n",
            "7/7 [==============================] - 0s 8ms/step - loss: 0.0093 - val_loss: 0.2446\n",
            "Epoch 48/200\n",
            "7/7 [==============================] - 0s 6ms/step - loss: 0.0098 - val_loss: 0.2452\n",
            "Epoch 49/200\n",
            "7/7 [==============================] - 0s 9ms/step - loss: 0.0101 - val_loss: 0.2409\n",
            "Epoch 50/200\n",
            "7/7 [==============================] - 0s 9ms/step - loss: 0.0097 - val_loss: 0.2423\n",
            "Epoch 51/200\n",
            "7/7 [==============================] - 0s 6ms/step - loss: 0.0088 - val_loss: 0.2427\n",
            "Epoch 52/200\n",
            "7/7 [==============================] - 0s 6ms/step - loss: 0.0093 - val_loss: 0.2416\n",
            "Epoch 53/200\n",
            "7/7 [==============================] - 0s 8ms/step - loss: 0.0087 - val_loss: 0.2379\n",
            "Epoch 54/200\n",
            "7/7 [==============================] - 0s 9ms/step - loss: 0.0090 - val_loss: 0.2418\n",
            "Epoch 55/200\n",
            "7/7 [==============================] - 0s 7ms/step - loss: 0.0091 - val_loss: 0.2406\n",
            "Epoch 56/200\n",
            "7/7 [==============================] - 0s 6ms/step - loss: 0.0093 - val_loss: 0.2383\n",
            "Epoch 57/200\n",
            "7/7 [==============================] - 0s 8ms/step - loss: 0.0089 - val_loss: 0.2368\n",
            "Epoch 58/200\n",
            "7/7 [==============================] - 0s 9ms/step - loss: 0.0092 - val_loss: 0.2375\n",
            "Epoch 59/200\n",
            "7/7 [==============================] - 0s 8ms/step - loss: 0.0092 - val_loss: 0.2371\n",
            "Epoch 60/200\n",
            "7/7 [==============================] - 0s 9ms/step - loss: 0.0088 - val_loss: 0.2364\n",
            "Epoch 61/200\n",
            "7/7 [==============================] - 0s 6ms/step - loss: 0.0090 - val_loss: 0.2377\n",
            "Epoch 62/200\n",
            "7/7 [==============================] - 0s 9ms/step - loss: 0.0087 - val_loss: 0.2361\n",
            "Epoch 63/200\n",
            "7/7 [==============================] - 0s 9ms/step - loss: 0.0093 - val_loss: 0.2346\n",
            "Epoch 64/200\n",
            "7/7 [==============================] - 0s 8ms/step - loss: 0.0081 - val_loss: 0.2341\n",
            "Epoch 65/200\n",
            "7/7 [==============================] - 0s 8ms/step - loss: 0.0082 - val_loss: 0.2368\n",
            "Epoch 66/200\n",
            "7/7 [==============================] - 0s 6ms/step - loss: 0.0087 - val_loss: 0.2352\n",
            "Epoch 67/200\n",
            "7/7 [==============================] - 0s 8ms/step - loss: 0.0077 - val_loss: 0.2351\n",
            "Epoch 68/200\n",
            "7/7 [==============================] - 0s 8ms/step - loss: 0.0082 - val_loss: 0.2347\n",
            "Epoch 69/200\n",
            "7/7 [==============================] - 0s 8ms/step - loss: 0.0083 - val_loss: 0.2346\n",
            "Epoch 70/200\n",
            "7/7 [==============================] - 0s 8ms/step - loss: 0.0085 - val_loss: 0.2353\n",
            "Epoch 71/200\n",
            "7/7 [==============================] - 0s 6ms/step - loss: 0.0085 - val_loss: 0.2349\n",
            "Epoch 72/200\n",
            "7/7 [==============================] - 0s 6ms/step - loss: 0.0087 - val_loss: 0.2338\n",
            "Epoch 73/200\n",
            "7/7 [==============================] - 0s 8ms/step - loss: 0.0083 - val_loss: 0.2342\n",
            "Epoch 74/200\n",
            "7/7 [==============================] - 0s 8ms/step - loss: 0.0084 - val_loss: 0.2338\n",
            "Epoch 75/200\n",
            "7/7 [==============================] - 0s 9ms/step - loss: 0.0086 - val_loss: 0.2363\n",
            "Epoch 76/200\n",
            "7/7 [==============================] - 0s 7ms/step - loss: 0.0108 - val_loss: 0.2313\n",
            "Epoch 77/200\n",
            "7/7 [==============================] - 0s 7ms/step - loss: 0.0096 - val_loss: 0.2318\n",
            "Epoch 78/200\n",
            "7/7 [==============================] - 0s 7ms/step - loss: 0.0089 - val_loss: 0.2347\n",
            "Epoch 79/200\n",
            "7/7 [==============================] - 0s 8ms/step - loss: 0.0082 - val_loss: 0.2333\n",
            "Epoch 80/200\n",
            "7/7 [==============================] - 0s 8ms/step - loss: 0.0084 - val_loss: 0.2325\n",
            "Epoch 81/200\n",
            "7/7 [==============================] - 0s 6ms/step - loss: 0.0081 - val_loss: 0.2326\n",
            "Epoch 82/200\n",
            "7/7 [==============================] - 0s 9ms/step - loss: 0.0075 - val_loss: 0.2328\n",
            "Epoch 83/200\n",
            "7/7 [==============================] - 0s 6ms/step - loss: 0.0079 - val_loss: 0.2328\n",
            "Epoch 84/200\n",
            "7/7 [==============================] - 0s 6ms/step - loss: 0.0083 - val_loss: 0.2343\n",
            "Epoch 85/200\n",
            "7/7 [==============================] - 0s 8ms/step - loss: 0.0082 - val_loss: 0.2328\n",
            "Epoch 86/200\n",
            "7/7 [==============================] - 0s 6ms/step - loss: 0.0091 - val_loss: 0.2301\n",
            "Epoch 87/200\n",
            "7/7 [==============================] - 0s 9ms/step - loss: 0.0092 - val_loss: 0.2322\n",
            "Epoch 88/200\n",
            "7/7 [==============================] - 0s 7ms/step - loss: 0.0078 - val_loss: 0.2326\n",
            "Epoch 89/200\n",
            "7/7 [==============================] - 0s 6ms/step - loss: 0.0079 - val_loss: 0.2318\n",
            "Epoch 90/200\n",
            "7/7 [==============================] - 0s 9ms/step - loss: 0.0081 - val_loss: 0.2286\n",
            "Epoch 91/200\n",
            "7/7 [==============================] - 0s 8ms/step - loss: 0.0087 - val_loss: 0.2323\n",
            "Epoch 92/200\n",
            "7/7 [==============================] - 0s 7ms/step - loss: 0.0087 - val_loss: 0.2323\n",
            "Epoch 93/200\n",
            "7/7 [==============================] - 0s 13ms/step - loss: 0.0078 - val_loss: 0.2310\n",
            "Epoch 94/200\n",
            "7/7 [==============================] - 0s 7ms/step - loss: 0.0071 - val_loss: 0.2315\n",
            "Epoch 95/200\n",
            "7/7 [==============================] - 0s 9ms/step - loss: 0.0083 - val_loss: 0.2336\n",
            "Epoch 96/200\n",
            "7/7 [==============================] - 0s 6ms/step - loss: 0.0083 - val_loss: 0.2331\n",
            "Epoch 97/200\n",
            "7/7 [==============================] - 0s 7ms/step - loss: 0.0082 - val_loss: 0.2310\n",
            "Epoch 98/200\n",
            "7/7 [==============================] - 0s 9ms/step - loss: 0.0075 - val_loss: 0.2314\n",
            "Epoch 99/200\n",
            "7/7 [==============================] - 0s 9ms/step - loss: 0.0070 - val_loss: 0.2310\n",
            "Epoch 100/200\n",
            "7/7 [==============================] - 0s 9ms/step - loss: 0.0077 - val_loss: 0.2310\n",
            "Epoch 101/200\n",
            "7/7 [==============================] - 0s 9ms/step - loss: 0.0077 - val_loss: 0.2321\n",
            "Epoch 102/200\n",
            "7/7 [==============================] - 0s 7ms/step - loss: 0.0083 - val_loss: 0.2302\n",
            "Epoch 103/200\n",
            "7/7 [==============================] - 0s 9ms/step - loss: 0.0074 - val_loss: 0.2311\n",
            "Epoch 104/200\n",
            "7/7 [==============================] - 0s 8ms/step - loss: 0.0077 - val_loss: 0.2318\n",
            "Epoch 105/200\n",
            "7/7 [==============================] - 0s 8ms/step - loss: 0.0073 - val_loss: 0.2314\n",
            "Epoch 106/200\n",
            "7/7 [==============================] - 0s 8ms/step - loss: 0.0074 - val_loss: 0.2305\n",
            "Epoch 107/200\n",
            "7/7 [==============================] - 0s 7ms/step - loss: 0.0077 - val_loss: 0.2307\n",
            "Epoch 108/200\n",
            "7/7 [==============================] - 0s 8ms/step - loss: 0.0072 - val_loss: 0.2295\n",
            "Epoch 109/200\n",
            "7/7 [==============================] - 0s 6ms/step - loss: 0.0083 - val_loss: 0.2330\n",
            "Epoch 110/200\n",
            "7/7 [==============================] - 0s 8ms/step - loss: 0.0080 - val_loss: 0.2304\n",
            "Epoch 111/200\n",
            "7/7 [==============================] - 0s 7ms/step - loss: 0.0078 - val_loss: 0.2286\n",
            "Epoch 112/200\n",
            "7/7 [==============================] - 0s 7ms/step - loss: 0.0071 - val_loss: 0.2297\n",
            "Epoch 113/200\n",
            "7/7 [==============================] - 0s 8ms/step - loss: 0.0071 - val_loss: 0.2309\n",
            "Epoch 114/200\n",
            "7/7 [==============================] - 0s 9ms/step - loss: 0.0072 - val_loss: 0.2284\n",
            "Epoch 115/200\n",
            "7/7 [==============================] - 0s 6ms/step - loss: 0.0075 - val_loss: 0.2300\n",
            "Epoch 116/200\n",
            "7/7 [==============================] - 0s 8ms/step - loss: 0.0077 - val_loss: 0.2292\n",
            "Epoch 117/200\n",
            "7/7 [==============================] - 0s 6ms/step - loss: 0.0074 - val_loss: 0.2279\n",
            "Epoch 118/200\n",
            "7/7 [==============================] - 0s 6ms/step - loss: 0.0079 - val_loss: 0.2285\n",
            "Epoch 119/200\n",
            "7/7 [==============================] - 0s 6ms/step - loss: 0.0074 - val_loss: 0.2295\n",
            "Epoch 120/200\n",
            "7/7 [==============================] - 0s 8ms/step - loss: 0.0071 - val_loss: 0.2287\n",
            "Epoch 121/200\n",
            "7/7 [==============================] - 0s 9ms/step - loss: 0.0073 - val_loss: 0.2275\n",
            "Epoch 122/200\n",
            "7/7 [==============================] - 0s 8ms/step - loss: 0.0068 - val_loss: 0.2282\n",
            "Epoch 123/200\n",
            "7/7 [==============================] - 0s 8ms/step - loss: 0.0075 - val_loss: 0.2295\n",
            "Epoch 124/200\n",
            "7/7 [==============================] - 0s 8ms/step - loss: 0.0073 - val_loss: 0.2281\n",
            "Epoch 125/200\n",
            "7/7 [==============================] - 0s 8ms/step - loss: 0.0068 - val_loss: 0.2290\n",
            "Epoch 126/200\n",
            "7/7 [==============================] - 0s 8ms/step - loss: 0.0070 - val_loss: 0.2287\n",
            "Epoch 127/200\n",
            "7/7 [==============================] - 0s 6ms/step - loss: 0.0071 - val_loss: 0.2280\n",
            "Epoch 128/200\n",
            "7/7 [==============================] - 0s 6ms/step - loss: 0.0076 - val_loss: 0.2280\n",
            "Epoch 129/200\n",
            "7/7 [==============================] - 0s 8ms/step - loss: 0.0068 - val_loss: 0.2283\n",
            "Epoch 130/200\n",
            "7/7 [==============================] - 0s 8ms/step - loss: 0.0070 - val_loss: 0.2285\n",
            "Epoch 131/200\n",
            "7/7 [==============================] - 0s 8ms/step - loss: 0.0069 - val_loss: 0.2282\n",
            "Epoch 132/200\n",
            "7/7 [==============================] - 0s 8ms/step - loss: 0.0068 - val_loss: 0.2277\n",
            "Epoch 133/200\n",
            "7/7 [==============================] - 0s 6ms/step - loss: 0.0067 - val_loss: 0.2279\n",
            "Epoch 134/200\n",
            "7/7 [==============================] - 0s 9ms/step - loss: 0.0066 - val_loss: 0.2277\n",
            "Epoch 135/200\n",
            "7/7 [==============================] - 0s 8ms/step - loss: 0.0071 - val_loss: 0.2281\n",
            "Epoch 136/200\n",
            "7/7 [==============================] - 0s 7ms/step - loss: 0.0073 - val_loss: 0.2288\n",
            "Epoch 137/200\n",
            "7/7 [==============================] - 0s 9ms/step - loss: 0.0070 - val_loss: 0.2295\n",
            "Epoch 138/200\n",
            "7/7 [==============================] - 0s 8ms/step - loss: 0.0070 - val_loss: 0.2288\n",
            "Epoch 139/200\n",
            "7/7 [==============================] - 0s 9ms/step - loss: 0.0067 - val_loss: 0.2281\n",
            "Epoch 140/200\n",
            "7/7 [==============================] - 0s 9ms/step - loss: 0.0069 - val_loss: 0.2291\n",
            "Epoch 141/200\n",
            "7/7 [==============================] - 0s 9ms/step - loss: 0.0071 - val_loss: 0.2294\n",
            "Epoch 142/200\n",
            "7/7 [==============================] - 0s 7ms/step - loss: 0.0066 - val_loss: 0.2285\n",
            "Epoch 143/200\n",
            "7/7 [==============================] - 0s 9ms/step - loss: 0.0064 - val_loss: 0.2279\n",
            "Epoch 144/200\n",
            "7/7 [==============================] - 0s 8ms/step - loss: 0.0072 - val_loss: 0.2277\n",
            "Epoch 145/200\n",
            "7/7 [==============================] - 0s 6ms/step - loss: 0.0061 - val_loss: 0.2282\n",
            "Epoch 146/200\n",
            "7/7 [==============================] - 0s 8ms/step - loss: 0.0068 - val_loss: 0.2300\n",
            "Epoch 147/200\n",
            "7/7 [==============================] - 0s 6ms/step - loss: 0.0073 - val_loss: 0.2282\n",
            "Epoch 148/200\n",
            "7/7 [==============================] - 0s 8ms/step - loss: 0.0066 - val_loss: 0.2278\n",
            "Epoch 149/200\n",
            "7/7 [==============================] - 0s 8ms/step - loss: 0.0065 - val_loss: 0.2280\n",
            "Epoch 150/200\n",
            "7/7 [==============================] - 0s 8ms/step - loss: 0.0068 - val_loss: 0.2286\n",
            "Epoch 151/200\n",
            "7/7 [==============================] - 0s 8ms/step - loss: 0.0067 - val_loss: 0.2287\n",
            "Epoch 152/200\n",
            "7/7 [==============================] - 0s 9ms/step - loss: 0.0066 - val_loss: 0.2281\n",
            "Epoch 153/200\n",
            "7/7 [==============================] - 0s 8ms/step - loss: 0.0060 - val_loss: 0.2272\n",
            "Epoch 154/200\n",
            "7/7 [==============================] - 0s 6ms/step - loss: 0.0070 - val_loss: 0.2278\n",
            "Epoch 155/200\n",
            "7/7 [==============================] - 0s 8ms/step - loss: 0.0062 - val_loss: 0.2275\n",
            "Epoch 156/200\n",
            "7/7 [==============================] - 0s 6ms/step - loss: 0.0071 - val_loss: 0.2274\n",
            "Epoch 157/200\n",
            "7/7 [==============================] - 0s 6ms/step - loss: 0.0067 - val_loss: 0.2291\n",
            "Epoch 158/200\n",
            "7/7 [==============================] - 0s 9ms/step - loss: 0.0062 - val_loss: 0.2289\n",
            "Epoch 159/200\n",
            "7/7 [==============================] - 0s 6ms/step - loss: 0.0066 - val_loss: 0.2297\n",
            "Epoch 160/200\n",
            "7/7 [==============================] - 0s 8ms/step - loss: 0.0071 - val_loss: 0.2284\n",
            "Epoch 161/200\n",
            "7/7 [==============================] - 0s 9ms/step - loss: 0.0063 - val_loss: 0.2292\n",
            "Epoch 162/200\n",
            "7/7 [==============================] - 0s 6ms/step - loss: 0.0071 - val_loss: 0.2293\n",
            "Epoch 163/200\n",
            "7/7 [==============================] - 0s 6ms/step - loss: 0.0065 - val_loss: 0.2302\n",
            "Epoch 164/200\n",
            "7/7 [==============================] - 0s 8ms/step - loss: 0.0072 - val_loss: 0.2286\n",
            "Epoch 165/200\n",
            "7/7 [==============================] - 0s 8ms/step - loss: 0.0067 - val_loss: 0.2281\n",
            "Epoch 166/200\n",
            "7/7 [==============================] - 0s 8ms/step - loss: 0.0065 - val_loss: 0.2284\n",
            "Epoch 167/200\n",
            "7/7 [==============================] - 0s 9ms/step - loss: 0.0062 - val_loss: 0.2288\n",
            "Epoch 168/200\n",
            "7/7 [==============================] - 0s 7ms/step - loss: 0.0064 - val_loss: 0.2285\n",
            "Epoch 169/200\n",
            "7/7 [==============================] - 0s 7ms/step - loss: 0.0060 - val_loss: 0.2290\n",
            "Epoch 170/200\n",
            "7/7 [==============================] - 0s 7ms/step - loss: 0.0063 - val_loss: 0.2284\n",
            "Epoch 171/200\n",
            "7/7 [==============================] - 0s 6ms/step - loss: 0.0062 - val_loss: 0.2280\n",
            "Epoch 172/200\n",
            "7/7 [==============================] - 0s 9ms/step - loss: 0.0064 - val_loss: 0.2278\n",
            "Epoch 173/200\n",
            "7/7 [==============================] - 0s 10ms/step - loss: 0.0065 - val_loss: 0.2280\n",
            "Epoch 174/200\n",
            "7/7 [==============================] - 0s 8ms/step - loss: 0.0070 - val_loss: 0.2288\n",
            "Epoch 175/200\n",
            "7/7 [==============================] - 0s 8ms/step - loss: 0.0065 - val_loss: 0.2280\n",
            "Epoch 176/200\n",
            "7/7 [==============================] - 0s 9ms/step - loss: 0.0063 - val_loss: 0.2283\n",
            "Epoch 177/200\n",
            "7/7 [==============================] - 0s 9ms/step - loss: 0.0062 - val_loss: 0.2291\n",
            "Epoch 178/200\n",
            "7/7 [==============================] - 0s 8ms/step - loss: 0.0068 - val_loss: 0.2288\n",
            "Epoch 179/200\n",
            "7/7 [==============================] - 0s 9ms/step - loss: 0.0059 - val_loss: 0.2279\n",
            "Epoch 180/200\n",
            "7/7 [==============================] - 0s 7ms/step - loss: 0.0065 - val_loss: 0.2287\n",
            "Epoch 181/200\n",
            "7/7 [==============================] - 0s 9ms/step - loss: 0.0062 - val_loss: 0.2297\n",
            "Epoch 182/200\n",
            "7/7 [==============================] - 0s 6ms/step - loss: 0.0062 - val_loss: 0.2290\n",
            "Epoch 183/200\n",
            "7/7 [==============================] - 0s 8ms/step - loss: 0.0060 - val_loss: 0.2290\n",
            "Epoch 184/200\n",
            "7/7 [==============================] - 0s 8ms/step - loss: 0.0059 - val_loss: 0.2290\n",
            "Epoch 185/200\n",
            "7/7 [==============================] - 0s 9ms/step - loss: 0.0058 - val_loss: 0.2294\n",
            "Epoch 186/200\n",
            "7/7 [==============================] - 0s 8ms/step - loss: 0.0060 - val_loss: 0.2295\n",
            "Epoch 187/200\n",
            "7/7 [==============================] - 0s 7ms/step - loss: 0.0062 - val_loss: 0.2301\n",
            "Epoch 188/200\n",
            "7/7 [==============================] - 0s 9ms/step - loss: 0.0058 - val_loss: 0.2294\n",
            "Epoch 189/200\n",
            "7/7 [==============================] - 0s 9ms/step - loss: 0.0059 - val_loss: 0.2284\n",
            "Epoch 190/200\n",
            "7/7 [==============================] - 0s 6ms/step - loss: 0.0065 - val_loss: 0.2293\n",
            "Epoch 191/200\n",
            "7/7 [==============================] - 0s 6ms/step - loss: 0.0053 - val_loss: 0.2296\n",
            "Epoch 192/200\n",
            "7/7 [==============================] - 0s 6ms/step - loss: 0.0065 - val_loss: 0.2298\n",
            "Epoch 193/200\n",
            "7/7 [==============================] - 0s 6ms/step - loss: 0.0063 - val_loss: 0.2300\n",
            "Epoch 194/200\n",
            "7/7 [==============================] - 0s 8ms/step - loss: 0.0066 - val_loss: 0.2299\n",
            "Epoch 195/200\n",
            "7/7 [==============================] - 0s 6ms/step - loss: 0.0059 - val_loss: 0.2300\n",
            "Epoch 196/200\n",
            "7/7 [==============================] - 0s 10ms/step - loss: 0.0063 - val_loss: 0.2285\n",
            "Epoch 197/200\n",
            "7/7 [==============================] - 0s 5ms/step - loss: 0.0061 - val_loss: 0.2292\n",
            "Epoch 198/200\n",
            "7/7 [==============================] - 0s 8ms/step - loss: 0.0065 - val_loss: 0.2288\n",
            "Epoch 199/200\n",
            "7/7 [==============================] - 0s 6ms/step - loss: 0.0066 - val_loss: 0.2294\n",
            "Epoch 200/200\n",
            "7/7 [==============================] - 0s 8ms/step - loss: 0.0066 - val_loss: 0.2310\n"
          ]
        },
        {
          "data": {
            "text/plain": [
              "<keras.callbacks.History at 0x7f39a8b3e610>"
            ]
          },
          "execution_count": null,
          "metadata": {},
          "output_type": "execute_result"
        }
      ],
      "source": [
        "#Fitting untuk ANN dari Data Training\n",
        "regressor.fit(train_X,train_y,validation_split=0.5,epochs=200)"
      ]
    },
    {
      "cell_type": "code",
      "execution_count": null,
      "metadata": {
        "colab": {
          "background_save": true
        },
        "id": "TXRN0obyyl9u"
      },
      "outputs": [],
      "source": [
        "#Menyimpan Model Training\n",
        "regressor.save('model.h5')"
      ]
    },
    {
      "cell_type": "code",
      "execution_count": null,
      "metadata": {
        "colab": {
          "background_save": true
        },
        "id": "b3BOI4Zfyl9u"
      },
      "outputs": [],
      "source": [
        "# Memprediksi Harga Saham pada masa yang akan datang\n",
        "\n",
        "#Membaca data menggunakan pandas\n",
        "test_df = pd.read_csv('https://raw.githubusercontent.com/shintaaulia/TK/main/HEAL.JK.csv')\n",
        "\n",
        "#menghapus data NAN\n",
        "df = train_df.dropna()\n",
        "\n",
        "#Menghapus data kosong\n",
        "test_data = test_df.drop(columns=['Date'])\n",
        "data_test_close=test_df[['Close']]\n",
        "\n",
        "#Normalisasi Data\n",
        "nor=(test_data-test_data.min())/(test_data.max()-test_data.min())\n",
        "\n",
        "#Membuat dataframe dengan semua data training except the target column\n",
        "test_X=nor\n",
        "\n",
        "#Membuat dataframe dengan hanya target column\n",
        "test_y=nor[['Close']]"
      ]
    },
    {
      "cell_type": "code",
      "execution_count": null,
      "metadata": {
        "colab": {
          "background_save": true
        },
        "id": "Km2S4gfHyl9v"
      },
      "outputs": [],
      "source": [
        "import matplotlib.pyplot as plt\n",
        "#delete the exiting model\n",
        "del regressor\n",
        "\n",
        "#load traning model\n",
        "regressor = load_model('model.h5')"
      ]
    },
    {
      "cell_type": "code",
      "execution_count": null,
      "metadata": {
        "colab": {
          "background_save": true
        },
        "id": "EvWlxlNgyl9v",
        "outputId": "38919fc1-804f-4ed2-c617-3fd874bb7314"
      },
      "outputs": [
        {
          "data": {
            "image/png": "[encoded data removed]",
            "text/plain": [
              "<Figure size 432x288 with 1 Axes>"
            ]
          },
          "metadata": {},
          "output_type": "display_data"
        },
        {
          "name": "stdout",
          "output_type": "stream",
          "text": [
            "mse 0.030023747006623733\n"
          ]
        }
      ],
      "source": [
        "####Prediksi dan Test Model####\n",
        "input_data=test_X.values\n",
        "real_close_price=test_y.values\n",
        "\n",
        "predicted_close_price = regressor.predict(input_data)\n",
        "target = real_close_price[~np.isnan(real_close_price)]\n",
        "predict = predicted_close_price[~np.isnan(predicted_close_price)]\n",
        "plt.plot(target)\n",
        "plt.plot(predict,'--')\n",
        "plt.title('Stock Price Prediction')\n",
        "plt.ylabel('Stock Price')\n",
        "plt.show()\n",
        " \n",
        "def mse(predictions,target):\n",
        "  return 0.5 * (((predictions-target)**2).mean())\n",
        " \n",
        "#mse =((real_close_price-predicted_close_price)**2).mean(axis=1)\n",
        "c = mse(predict.flatten(),target.flatten())\n",
        "print('mse', c)\n"
      ]
    },
    {
      "cell_type": "code",
      "execution_count": null,
      "metadata": {
        "colab": {
          "background_save": true
        },
        "id": "MciTZSwSLbXK",
        "outputId": "5ec7e496-c878-4dc4-c02a-595896320fea"
      },
      "outputs": [
        {
          "name": "stdout",
          "output_type": "stream",
          "text": [
            "Requirement already satisfied: tabulate in /usr/local/lib/python3.7/dist-packages (0.8.9)\n"
          ]
        }
      ],
      "source": [
        "pip install tabulate"
      ]
    },
    {
      "cell_type": "code",
      "execution_count": null,
      "metadata": {
        "colab": {
          "background_save": true
        },
        "id": "IEANMkAtLVQw"
      },
      "outputs": [],
      "source": [
        "\n",
        "from tabulate import tabulate"
      ]
    },
    {
      "cell_type": "code",
      "execution_count": null,
      "metadata": {
        "colab": {
          "background_save": true
        },
        "id": "XZl3jx9xLg8W"
      },
      "outputs": [],
      "source": [
        "table = [['SAHAM', 'MSE'], ['KAEF', a], ['KLBF', b], ['HEAL', c]]\n"
      ]
    },
    {
      "cell_type": "code",
      "execution_count": null,
      "metadata": {
        "colab": {
          "background_save": true
        },
        "id": "I8v8hcCfMZaR",
        "outputId": "ae8a8b6f-8159-4118-eba4-53aead4c1895"
      },
      "outputs": [
        {
          "name": "stdout",
          "output_type": "stream",
          "text": [
            "SAHAM           MSE\n",
            "-------  ----------\n",
            "KAEF     0.00809156\n",
            "KLBF     0.00238617\n",
            "HEAL     0.0300237\n"
          ]
        }
      ],
      "source": [
        "print(tabulate(table,headers='firstrow'))"
      ]
    }
  ],
  "metadata": {
    "colab": {
      "provenance": [],
      "include_colab_link": true
    },
    "kernelspec": {
      "display_name": "Python 3",
      "name": "python3"
    },
    "language_info": {
      "name": "python"
    }
  },
  "nbformat": 4,
  "nbformat_minor": 0
}